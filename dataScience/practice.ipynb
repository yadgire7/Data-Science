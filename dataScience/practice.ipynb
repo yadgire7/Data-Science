{
 "cells": [
  {
   "cell_type": "code",
   "execution_count": 1,
   "id": "d2327b20",
   "metadata": {},
   "outputs": [],
   "source": [
    "import numpy as np\n",
    "import pandas as pd"
   ]
  },
  {
   "cell_type": "code",
   "execution_count": 2,
   "id": "dc21b02c",
   "metadata": {},
   "outputs": [],
   "source": [
    "myData = pd.read_csv('Iris.csv')"
   ]
  },
  {
   "cell_type": "code",
   "execution_count": 3,
   "id": "5679087d",
   "metadata": {},
   "outputs": [
    {
     "data": {
      "text/html": [
       "<div>\n",
       "<style scoped>\n",
       "    .dataframe tbody tr th:only-of-type {\n",
       "        vertical-align: middle;\n",
       "    }\n",
       "\n",
       "    .dataframe tbody tr th {\n",
       "        vertical-align: top;\n",
       "    }\n",
       "\n",
       "    .dataframe thead th {\n",
       "        text-align: right;\n",
       "    }\n",
       "</style>\n",
       "<table border=\"1\" class=\"dataframe\">\n",
       "  <thead>\n",
       "    <tr style=\"text-align: right;\">\n",
       "      <th></th>\n",
       "      <th>Id</th>\n",
       "      <th>SepalLengthCm</th>\n",
       "      <th>SepalWidthCm</th>\n",
       "      <th>PetalLengthCm</th>\n",
       "      <th>PetalWidthCm</th>\n",
       "      <th>Species</th>\n",
       "    </tr>\n",
       "  </thead>\n",
       "  <tbody>\n",
       "    <tr>\n",
       "      <th>0</th>\n",
       "      <td>1</td>\n",
       "      <td>5.1</td>\n",
       "      <td>3.5</td>\n",
       "      <td>1.4</td>\n",
       "      <td>0.2</td>\n",
       "      <td>Iris-setosa</td>\n",
       "    </tr>\n",
       "    <tr>\n",
       "      <th>1</th>\n",
       "      <td>2</td>\n",
       "      <td>4.9</td>\n",
       "      <td>3.0</td>\n",
       "      <td>1.4</td>\n",
       "      <td>0.2</td>\n",
       "      <td>Iris-setosa</td>\n",
       "    </tr>\n",
       "    <tr>\n",
       "      <th>2</th>\n",
       "      <td>3</td>\n",
       "      <td>4.7</td>\n",
       "      <td>3.2</td>\n",
       "      <td>1.3</td>\n",
       "      <td>0.2</td>\n",
       "      <td>Iris-setosa</td>\n",
       "    </tr>\n",
       "    <tr>\n",
       "      <th>3</th>\n",
       "      <td>4</td>\n",
       "      <td>4.6</td>\n",
       "      <td>3.1</td>\n",
       "      <td>1.5</td>\n",
       "      <td>0.2</td>\n",
       "      <td>Iris-setosa</td>\n",
       "    </tr>\n",
       "    <tr>\n",
       "      <th>4</th>\n",
       "      <td>5</td>\n",
       "      <td>5.0</td>\n",
       "      <td>3.6</td>\n",
       "      <td>1.4</td>\n",
       "      <td>0.2</td>\n",
       "      <td>Iris-setosa</td>\n",
       "    </tr>\n",
       "    <tr>\n",
       "      <th>...</th>\n",
       "      <td>...</td>\n",
       "      <td>...</td>\n",
       "      <td>...</td>\n",
       "      <td>...</td>\n",
       "      <td>...</td>\n",
       "      <td>...</td>\n",
       "    </tr>\n",
       "    <tr>\n",
       "      <th>145</th>\n",
       "      <td>146</td>\n",
       "      <td>6.7</td>\n",
       "      <td>3.0</td>\n",
       "      <td>5.2</td>\n",
       "      <td>2.3</td>\n",
       "      <td>Iris-virginica</td>\n",
       "    </tr>\n",
       "    <tr>\n",
       "      <th>146</th>\n",
       "      <td>147</td>\n",
       "      <td>6.3</td>\n",
       "      <td>2.5</td>\n",
       "      <td>5.0</td>\n",
       "      <td>1.9</td>\n",
       "      <td>Iris-virginica</td>\n",
       "    </tr>\n",
       "    <tr>\n",
       "      <th>147</th>\n",
       "      <td>148</td>\n",
       "      <td>6.5</td>\n",
       "      <td>3.0</td>\n",
       "      <td>5.2</td>\n",
       "      <td>2.0</td>\n",
       "      <td>Iris-virginica</td>\n",
       "    </tr>\n",
       "    <tr>\n",
       "      <th>148</th>\n",
       "      <td>149</td>\n",
       "      <td>6.2</td>\n",
       "      <td>3.4</td>\n",
       "      <td>5.4</td>\n",
       "      <td>2.3</td>\n",
       "      <td>Iris-virginica</td>\n",
       "    </tr>\n",
       "    <tr>\n",
       "      <th>149</th>\n",
       "      <td>150</td>\n",
       "      <td>5.9</td>\n",
       "      <td>3.0</td>\n",
       "      <td>5.1</td>\n",
       "      <td>1.8</td>\n",
       "      <td>Iris-virginica</td>\n",
       "    </tr>\n",
       "  </tbody>\n",
       "</table>\n",
       "<p>150 rows × 6 columns</p>\n",
       "</div>"
      ],
      "text/plain": [
       "      Id  SepalLengthCm  SepalWidthCm  PetalLengthCm  PetalWidthCm  \\\n",
       "0      1            5.1           3.5            1.4           0.2   \n",
       "1      2            4.9           3.0            1.4           0.2   \n",
       "2      3            4.7           3.2            1.3           0.2   \n",
       "3      4            4.6           3.1            1.5           0.2   \n",
       "4      5            5.0           3.6            1.4           0.2   \n",
       "..   ...            ...           ...            ...           ...   \n",
       "145  146            6.7           3.0            5.2           2.3   \n",
       "146  147            6.3           2.5            5.0           1.9   \n",
       "147  148            6.5           3.0            5.2           2.0   \n",
       "148  149            6.2           3.4            5.4           2.3   \n",
       "149  150            5.9           3.0            5.1           1.8   \n",
       "\n",
       "            Species  \n",
       "0       Iris-setosa  \n",
       "1       Iris-setosa  \n",
       "2       Iris-setosa  \n",
       "3       Iris-setosa  \n",
       "4       Iris-setosa  \n",
       "..              ...  \n",
       "145  Iris-virginica  \n",
       "146  Iris-virginica  \n",
       "147  Iris-virginica  \n",
       "148  Iris-virginica  \n",
       "149  Iris-virginica  \n",
       "\n",
       "[150 rows x 6 columns]"
      ]
     },
     "execution_count": 3,
     "metadata": {},
     "output_type": "execute_result"
    }
   ],
   "source": [
    "myData"
   ]
  },
  {
   "cell_type": "code",
   "execution_count": 4,
   "id": "5ff6f8cb",
   "metadata": {},
   "outputs": [],
   "source": [
    "Sep = pd.Series(myData.SepalLengthCm)"
   ]
  },
  {
   "cell_type": "code",
   "execution_count": 5,
   "id": "c7773ffd",
   "metadata": {},
   "outputs": [
    {
     "data": {
      "text/plain": [
       "5.843333333333335"
      ]
     },
     "execution_count": 5,
     "metadata": {},
     "output_type": "execute_result"
    }
   ],
   "source": [
    "Sep.mean()"
   ]
  },
  {
   "cell_type": "code",
   "execution_count": 6,
   "id": "3120cb42",
   "metadata": {},
   "outputs": [
    {
     "data": {
      "text/plain": [
       "5.8"
      ]
     },
     "execution_count": 6,
     "metadata": {},
     "output_type": "execute_result"
    }
   ],
   "source": [
    "Sep.median()"
   ]
  },
  {
   "cell_type": "code",
   "execution_count": 7,
   "id": "c10283f0",
   "metadata": {},
   "outputs": [
    {
     "data": {
      "text/plain": [
       "0.3149109566369728"
      ]
     },
     "execution_count": 7,
     "metadata": {},
     "output_type": "execute_result"
    }
   ],
   "source": [
    "Sep.skew()"
   ]
  },
  {
   "cell_type": "code",
   "execution_count": 8,
   "id": "6f755292",
   "metadata": {},
   "outputs": [
    {
     "data": {
      "text/plain": [
       "-0.5520640413156395"
      ]
     },
     "execution_count": 8,
     "metadata": {},
     "output_type": "execute_result"
    }
   ],
   "source": [
    "Sep.kurt()"
   ]
  },
  {
   "cell_type": "code",
   "execution_count": 9,
   "id": "4fa41b5f",
   "metadata": {},
   "outputs": [
    {
     "data": {
      "text/plain": [
       "-0.5520640413156395"
      ]
     },
     "execution_count": 9,
     "metadata": {},
     "output_type": "execute_result"
    }
   ],
   "source": [
    "Sep.kurtosis()"
   ]
  },
  {
   "cell_type": "code",
   "execution_count": 10,
   "id": "85ca843a",
   "metadata": {},
   "outputs": [],
   "source": [
    "cs=Sep.cumsum()"
   ]
  },
  {
   "cell_type": "code",
   "execution_count": 11,
   "id": "89a910a4",
   "metadata": {},
   "outputs": [
    {
     "data": {
      "text/plain": [
       "0        5.1\n",
       "1       10.0\n",
       "2       14.7\n",
       "3       19.3\n",
       "4       24.3\n",
       "       ...  \n",
       "145    851.6\n",
       "146    857.9\n",
       "147    864.4\n",
       "148    870.6\n",
       "149    876.5\n",
       "Name: SepalLengthCm, Length: 150, dtype: float64"
      ]
     },
     "execution_count": 11,
     "metadata": {},
     "output_type": "execute_result"
    }
   ],
   "source": [
    "cs"
   ]
  },
  {
   "cell_type": "code",
   "execution_count": 12,
   "id": "a7247233",
   "metadata": {},
   "outputs": [
    {
     "data": {
      "text/html": [
       "<div>\n",
       "<style scoped>\n",
       "    .dataframe tbody tr th:only-of-type {\n",
       "        vertical-align: middle;\n",
       "    }\n",
       "\n",
       "    .dataframe tbody tr th {\n",
       "        vertical-align: top;\n",
       "    }\n",
       "\n",
       "    .dataframe thead th {\n",
       "        text-align: right;\n",
       "    }\n",
       "</style>\n",
       "<table border=\"1\" class=\"dataframe\">\n",
       "  <thead>\n",
       "    <tr style=\"text-align: right;\">\n",
       "      <th></th>\n",
       "      <th>Id</th>\n",
       "      <th>SepalLengthCm</th>\n",
       "      <th>SepalWidthCm</th>\n",
       "      <th>PetalLengthCm</th>\n",
       "      <th>PetalWidthCm</th>\n",
       "      <th>Species</th>\n",
       "    </tr>\n",
       "  </thead>\n",
       "  <tbody>\n",
       "    <tr>\n",
       "      <th>count</th>\n",
       "      <td>150.000000</td>\n",
       "      <td>150.000000</td>\n",
       "      <td>150.000000</td>\n",
       "      <td>150.000000</td>\n",
       "      <td>150.000000</td>\n",
       "      <td>150</td>\n",
       "    </tr>\n",
       "    <tr>\n",
       "      <th>unique</th>\n",
       "      <td>NaN</td>\n",
       "      <td>NaN</td>\n",
       "      <td>NaN</td>\n",
       "      <td>NaN</td>\n",
       "      <td>NaN</td>\n",
       "      <td>3</td>\n",
       "    </tr>\n",
       "    <tr>\n",
       "      <th>top</th>\n",
       "      <td>NaN</td>\n",
       "      <td>NaN</td>\n",
       "      <td>NaN</td>\n",
       "      <td>NaN</td>\n",
       "      <td>NaN</td>\n",
       "      <td>Iris-setosa</td>\n",
       "    </tr>\n",
       "    <tr>\n",
       "      <th>freq</th>\n",
       "      <td>NaN</td>\n",
       "      <td>NaN</td>\n",
       "      <td>NaN</td>\n",
       "      <td>NaN</td>\n",
       "      <td>NaN</td>\n",
       "      <td>50</td>\n",
       "    </tr>\n",
       "    <tr>\n",
       "      <th>mean</th>\n",
       "      <td>75.500000</td>\n",
       "      <td>5.843333</td>\n",
       "      <td>3.054000</td>\n",
       "      <td>3.758667</td>\n",
       "      <td>1.198667</td>\n",
       "      <td>NaN</td>\n",
       "    </tr>\n",
       "    <tr>\n",
       "      <th>std</th>\n",
       "      <td>43.445368</td>\n",
       "      <td>0.828066</td>\n",
       "      <td>0.433594</td>\n",
       "      <td>1.764420</td>\n",
       "      <td>0.763161</td>\n",
       "      <td>NaN</td>\n",
       "    </tr>\n",
       "    <tr>\n",
       "      <th>min</th>\n",
       "      <td>1.000000</td>\n",
       "      <td>4.300000</td>\n",
       "      <td>2.000000</td>\n",
       "      <td>1.000000</td>\n",
       "      <td>0.100000</td>\n",
       "      <td>NaN</td>\n",
       "    </tr>\n",
       "    <tr>\n",
       "      <th>25%</th>\n",
       "      <td>38.250000</td>\n",
       "      <td>5.100000</td>\n",
       "      <td>2.800000</td>\n",
       "      <td>1.600000</td>\n",
       "      <td>0.300000</td>\n",
       "      <td>NaN</td>\n",
       "    </tr>\n",
       "    <tr>\n",
       "      <th>50%</th>\n",
       "      <td>75.500000</td>\n",
       "      <td>5.800000</td>\n",
       "      <td>3.000000</td>\n",
       "      <td>4.350000</td>\n",
       "      <td>1.300000</td>\n",
       "      <td>NaN</td>\n",
       "    </tr>\n",
       "    <tr>\n",
       "      <th>75%</th>\n",
       "      <td>112.750000</td>\n",
       "      <td>6.400000</td>\n",
       "      <td>3.300000</td>\n",
       "      <td>5.100000</td>\n",
       "      <td>1.800000</td>\n",
       "      <td>NaN</td>\n",
       "    </tr>\n",
       "    <tr>\n",
       "      <th>max</th>\n",
       "      <td>150.000000</td>\n",
       "      <td>7.900000</td>\n",
       "      <td>4.400000</td>\n",
       "      <td>6.900000</td>\n",
       "      <td>2.500000</td>\n",
       "      <td>NaN</td>\n",
       "    </tr>\n",
       "  </tbody>\n",
       "</table>\n",
       "</div>"
      ],
      "text/plain": [
       "                Id  SepalLengthCm  SepalWidthCm  PetalLengthCm  PetalWidthCm  \\\n",
       "count   150.000000     150.000000    150.000000     150.000000    150.000000   \n",
       "unique         NaN            NaN           NaN            NaN           NaN   \n",
       "top            NaN            NaN           NaN            NaN           NaN   \n",
       "freq           NaN            NaN           NaN            NaN           NaN   \n",
       "mean     75.500000       5.843333      3.054000       3.758667      1.198667   \n",
       "std      43.445368       0.828066      0.433594       1.764420      0.763161   \n",
       "min       1.000000       4.300000      2.000000       1.000000      0.100000   \n",
       "25%      38.250000       5.100000      2.800000       1.600000      0.300000   \n",
       "50%      75.500000       5.800000      3.000000       4.350000      1.300000   \n",
       "75%     112.750000       6.400000      3.300000       5.100000      1.800000   \n",
       "max     150.000000       7.900000      4.400000       6.900000      2.500000   \n",
       "\n",
       "            Species  \n",
       "count           150  \n",
       "unique            3  \n",
       "top     Iris-setosa  \n",
       "freq             50  \n",
       "mean            NaN  \n",
       "std             NaN  \n",
       "min             NaN  \n",
       "25%             NaN  \n",
       "50%             NaN  \n",
       "75%             NaN  \n",
       "max             NaN  "
      ]
     },
     "execution_count": 12,
     "metadata": {},
     "output_type": "execute_result"
    }
   ],
   "source": [
    "myData.describe(include=\"all\")"
   ]
  },
  {
   "cell_type": "code",
   "execution_count": 13,
   "id": "1defd672",
   "metadata": {},
   "outputs": [
    {
     "data": {
      "text/html": [
       "<div>\n",
       "<style scoped>\n",
       "    .dataframe tbody tr th:only-of-type {\n",
       "        vertical-align: middle;\n",
       "    }\n",
       "\n",
       "    .dataframe tbody tr th {\n",
       "        vertical-align: top;\n",
       "    }\n",
       "\n",
       "    .dataframe thead th {\n",
       "        text-align: right;\n",
       "    }\n",
       "</style>\n",
       "<table border=\"1\" class=\"dataframe\">\n",
       "  <thead>\n",
       "    <tr style=\"text-align: right;\">\n",
       "      <th></th>\n",
       "      <th>Id</th>\n",
       "      <th>SepalLengthCm</th>\n",
       "      <th>SepalWidthCm</th>\n",
       "      <th>PetalLengthCm</th>\n",
       "      <th>PetalWidthCm</th>\n",
       "      <th>Species</th>\n",
       "    </tr>\n",
       "  </thead>\n",
       "  <tbody>\n",
       "    <tr>\n",
       "      <th>0</th>\n",
       "      <td>1</td>\n",
       "      <td>5.1</td>\n",
       "      <td>3.5</td>\n",
       "      <td>1.4</td>\n",
       "      <td>0.2</td>\n",
       "      <td>Iris-setosa</td>\n",
       "    </tr>\n",
       "    <tr>\n",
       "      <th>1</th>\n",
       "      <td>2</td>\n",
       "      <td>4.9</td>\n",
       "      <td>3.0</td>\n",
       "      <td>1.4</td>\n",
       "      <td>0.2</td>\n",
       "      <td>Iris-setosa</td>\n",
       "    </tr>\n",
       "    <tr>\n",
       "      <th>2</th>\n",
       "      <td>3</td>\n",
       "      <td>4.7</td>\n",
       "      <td>3.2</td>\n",
       "      <td>1.3</td>\n",
       "      <td>0.2</td>\n",
       "      <td>Iris-setosa</td>\n",
       "    </tr>\n",
       "    <tr>\n",
       "      <th>3</th>\n",
       "      <td>4</td>\n",
       "      <td>4.6</td>\n",
       "      <td>3.1</td>\n",
       "      <td>1.5</td>\n",
       "      <td>0.2</td>\n",
       "      <td>Iris-setosa</td>\n",
       "    </tr>\n",
       "    <tr>\n",
       "      <th>4</th>\n",
       "      <td>5</td>\n",
       "      <td>5.0</td>\n",
       "      <td>3.6</td>\n",
       "      <td>1.4</td>\n",
       "      <td>0.2</td>\n",
       "      <td>Iris-setosa</td>\n",
       "    </tr>\n",
       "    <tr>\n",
       "      <th>...</th>\n",
       "      <td>...</td>\n",
       "      <td>...</td>\n",
       "      <td>...</td>\n",
       "      <td>...</td>\n",
       "      <td>...</td>\n",
       "      <td>...</td>\n",
       "    </tr>\n",
       "    <tr>\n",
       "      <th>145</th>\n",
       "      <td>146</td>\n",
       "      <td>6.7</td>\n",
       "      <td>3.0</td>\n",
       "      <td>5.2</td>\n",
       "      <td>2.3</td>\n",
       "      <td>Iris-virginica</td>\n",
       "    </tr>\n",
       "    <tr>\n",
       "      <th>146</th>\n",
       "      <td>147</td>\n",
       "      <td>6.3</td>\n",
       "      <td>2.5</td>\n",
       "      <td>5.0</td>\n",
       "      <td>1.9</td>\n",
       "      <td>Iris-virginica</td>\n",
       "    </tr>\n",
       "    <tr>\n",
       "      <th>147</th>\n",
       "      <td>148</td>\n",
       "      <td>6.5</td>\n",
       "      <td>3.0</td>\n",
       "      <td>5.2</td>\n",
       "      <td>2.0</td>\n",
       "      <td>Iris-virginica</td>\n",
       "    </tr>\n",
       "    <tr>\n",
       "      <th>148</th>\n",
       "      <td>149</td>\n",
       "      <td>6.2</td>\n",
       "      <td>3.4</td>\n",
       "      <td>5.4</td>\n",
       "      <td>2.3</td>\n",
       "      <td>Iris-virginica</td>\n",
       "    </tr>\n",
       "    <tr>\n",
       "      <th>149</th>\n",
       "      <td>150</td>\n",
       "      <td>5.9</td>\n",
       "      <td>3.0</td>\n",
       "      <td>5.1</td>\n",
       "      <td>1.8</td>\n",
       "      <td>Iris-virginica</td>\n",
       "    </tr>\n",
       "  </tbody>\n",
       "</table>\n",
       "<p>150 rows × 6 columns</p>\n",
       "</div>"
      ],
      "text/plain": [
       "      Id  SepalLengthCm  SepalWidthCm  PetalLengthCm  PetalWidthCm  \\\n",
       "0      1            5.1           3.5            1.4           0.2   \n",
       "1      2            4.9           3.0            1.4           0.2   \n",
       "2      3            4.7           3.2            1.3           0.2   \n",
       "3      4            4.6           3.1            1.5           0.2   \n",
       "4      5            5.0           3.6            1.4           0.2   \n",
       "..   ...            ...           ...            ...           ...   \n",
       "145  146            6.7           3.0            5.2           2.3   \n",
       "146  147            6.3           2.5            5.0           1.9   \n",
       "147  148            6.5           3.0            5.2           2.0   \n",
       "148  149            6.2           3.4            5.4           2.3   \n",
       "149  150            5.9           3.0            5.1           1.8   \n",
       "\n",
       "            Species  \n",
       "0       Iris-setosa  \n",
       "1       Iris-setosa  \n",
       "2       Iris-setosa  \n",
       "3       Iris-setosa  \n",
       "4       Iris-setosa  \n",
       "..              ...  \n",
       "145  Iris-virginica  \n",
       "146  Iris-virginica  \n",
       "147  Iris-virginica  \n",
       "148  Iris-virginica  \n",
       "149  Iris-virginica  \n",
       "\n",
       "[150 rows x 6 columns]"
      ]
     },
     "execution_count": 13,
     "metadata": {},
     "output_type": "execute_result"
    }
   ],
   "source": [
    "myData"
   ]
  },
  {
   "cell_type": "code",
   "execution_count": 14,
   "id": "d8e8897d",
   "metadata": {},
   "outputs": [
    {
     "data": {
      "text/html": [
       "<div>\n",
       "<style scoped>\n",
       "    .dataframe tbody tr th:only-of-type {\n",
       "        vertical-align: middle;\n",
       "    }\n",
       "\n",
       "    .dataframe tbody tr th {\n",
       "        vertical-align: top;\n",
       "    }\n",
       "\n",
       "    .dataframe thead th {\n",
       "        text-align: right;\n",
       "    }\n",
       "</style>\n",
       "<table border=\"1\" class=\"dataframe\">\n",
       "  <thead>\n",
       "    <tr style=\"text-align: right;\">\n",
       "      <th></th>\n",
       "      <th>Id</th>\n",
       "      <th>SepalLengthCm</th>\n",
       "      <th>SepalWidthCm</th>\n",
       "      <th>PetalLengthCm</th>\n",
       "      <th>PetalWidthCm</th>\n",
       "      <th>Species</th>\n",
       "    </tr>\n",
       "  </thead>\n",
       "  <tbody>\n",
       "    <tr>\n",
       "      <th>145</th>\n",
       "      <td>146</td>\n",
       "      <td>6.7</td>\n",
       "      <td>3.0</td>\n",
       "      <td>5.2</td>\n",
       "      <td>2.3</td>\n",
       "      <td>Iris-virginica</td>\n",
       "    </tr>\n",
       "    <tr>\n",
       "      <th>146</th>\n",
       "      <td>147</td>\n",
       "      <td>6.3</td>\n",
       "      <td>2.5</td>\n",
       "      <td>5.0</td>\n",
       "      <td>1.9</td>\n",
       "      <td>Iris-virginica</td>\n",
       "    </tr>\n",
       "    <tr>\n",
       "      <th>147</th>\n",
       "      <td>148</td>\n",
       "      <td>6.5</td>\n",
       "      <td>3.0</td>\n",
       "      <td>5.2</td>\n",
       "      <td>2.0</td>\n",
       "      <td>Iris-virginica</td>\n",
       "    </tr>\n",
       "    <tr>\n",
       "      <th>148</th>\n",
       "      <td>149</td>\n",
       "      <td>6.2</td>\n",
       "      <td>3.4</td>\n",
       "      <td>5.4</td>\n",
       "      <td>2.3</td>\n",
       "      <td>Iris-virginica</td>\n",
       "    </tr>\n",
       "    <tr>\n",
       "      <th>149</th>\n",
       "      <td>150</td>\n",
       "      <td>5.9</td>\n",
       "      <td>3.0</td>\n",
       "      <td>5.1</td>\n",
       "      <td>1.8</td>\n",
       "      <td>Iris-virginica</td>\n",
       "    </tr>\n",
       "  </tbody>\n",
       "</table>\n",
       "</div>"
      ],
      "text/plain": [
       "      Id  SepalLengthCm  SepalWidthCm  PetalLengthCm  PetalWidthCm  \\\n",
       "145  146            6.7           3.0            5.2           2.3   \n",
       "146  147            6.3           2.5            5.0           1.9   \n",
       "147  148            6.5           3.0            5.2           2.0   \n",
       "148  149            6.2           3.4            5.4           2.3   \n",
       "149  150            5.9           3.0            5.1           1.8   \n",
       "\n",
       "            Species  \n",
       "145  Iris-virginica  \n",
       "146  Iris-virginica  \n",
       "147  Iris-virginica  \n",
       "148  Iris-virginica  \n",
       "149  Iris-virginica  "
      ]
     },
     "execution_count": 14,
     "metadata": {},
     "output_type": "execute_result"
    }
   ],
   "source": [
    "myData.tail()"
   ]
  },
  {
   "cell_type": "code",
   "execution_count": 15,
   "id": "d662e6e9",
   "metadata": {},
   "outputs": [],
   "source": [
    "ser = pd.Series(np.random.rand(7))"
   ]
  },
  {
   "cell_type": "code",
   "execution_count": 16,
   "id": "2f9040ab",
   "metadata": {},
   "outputs": [
    {
     "data": {
      "text/plain": [
       "0    0.918066\n",
       "1    0.727959\n",
       "2    0.107517\n",
       "3    0.940534\n",
       "4    0.338879\n",
       "5    0.145480\n",
       "6    0.755588\n",
       "dtype: float64"
      ]
     },
     "execution_count": 16,
     "metadata": {},
     "output_type": "execute_result"
    }
   ],
   "source": [
    "ser"
   ]
  },
  {
   "cell_type": "code",
   "execution_count": 17,
   "id": "698dfcb9",
   "metadata": {},
   "outputs": [],
   "source": [
    "newdf = pd.DataFrame(np.random.rand(334,5), index = np.arange(334))"
   ]
  },
  {
   "cell_type": "code",
   "execution_count": 18,
   "id": "caf92e7c",
   "metadata": {},
   "outputs": [
    {
     "data": {
      "text/html": [
       "<div>\n",
       "<style scoped>\n",
       "    .dataframe tbody tr th:only-of-type {\n",
       "        vertical-align: middle;\n",
       "    }\n",
       "\n",
       "    .dataframe tbody tr th {\n",
       "        vertical-align: top;\n",
       "    }\n",
       "\n",
       "    .dataframe thead th {\n",
       "        text-align: right;\n",
       "    }\n",
       "</style>\n",
       "<table border=\"1\" class=\"dataframe\">\n",
       "  <thead>\n",
       "    <tr style=\"text-align: right;\">\n",
       "      <th></th>\n",
       "      <th>0</th>\n",
       "      <th>1</th>\n",
       "      <th>2</th>\n",
       "      <th>3</th>\n",
       "      <th>4</th>\n",
       "    </tr>\n",
       "  </thead>\n",
       "  <tbody>\n",
       "    <tr>\n",
       "      <th>0</th>\n",
       "      <td>0.234046</td>\n",
       "      <td>0.321414</td>\n",
       "      <td>0.447885</td>\n",
       "      <td>0.800382</td>\n",
       "      <td>0.776157</td>\n",
       "    </tr>\n",
       "    <tr>\n",
       "      <th>1</th>\n",
       "      <td>0.605159</td>\n",
       "      <td>0.251722</td>\n",
       "      <td>0.876063</td>\n",
       "      <td>0.906049</td>\n",
       "      <td>0.227268</td>\n",
       "    </tr>\n",
       "    <tr>\n",
       "      <th>2</th>\n",
       "      <td>0.346432</td>\n",
       "      <td>0.260942</td>\n",
       "      <td>0.461695</td>\n",
       "      <td>0.724874</td>\n",
       "      <td>0.141755</td>\n",
       "    </tr>\n",
       "    <tr>\n",
       "      <th>3</th>\n",
       "      <td>0.319119</td>\n",
       "      <td>0.596981</td>\n",
       "      <td>0.382728</td>\n",
       "      <td>0.366957</td>\n",
       "      <td>0.934491</td>\n",
       "    </tr>\n",
       "    <tr>\n",
       "      <th>4</th>\n",
       "      <td>0.976809</td>\n",
       "      <td>0.706636</td>\n",
       "      <td>0.752684</td>\n",
       "      <td>0.986324</td>\n",
       "      <td>0.671085</td>\n",
       "    </tr>\n",
       "    <tr>\n",
       "      <th>...</th>\n",
       "      <td>...</td>\n",
       "      <td>...</td>\n",
       "      <td>...</td>\n",
       "      <td>...</td>\n",
       "      <td>...</td>\n",
       "    </tr>\n",
       "    <tr>\n",
       "      <th>329</th>\n",
       "      <td>0.225005</td>\n",
       "      <td>0.495566</td>\n",
       "      <td>0.687279</td>\n",
       "      <td>0.082345</td>\n",
       "      <td>0.048840</td>\n",
       "    </tr>\n",
       "    <tr>\n",
       "      <th>330</th>\n",
       "      <td>0.794263</td>\n",
       "      <td>0.340483</td>\n",
       "      <td>0.981171</td>\n",
       "      <td>0.168398</td>\n",
       "      <td>0.166115</td>\n",
       "    </tr>\n",
       "    <tr>\n",
       "      <th>331</th>\n",
       "      <td>0.357801</td>\n",
       "      <td>0.753625</td>\n",
       "      <td>0.028218</td>\n",
       "      <td>0.395173</td>\n",
       "      <td>0.635905</td>\n",
       "    </tr>\n",
       "    <tr>\n",
       "      <th>332</th>\n",
       "      <td>0.486229</td>\n",
       "      <td>0.939932</td>\n",
       "      <td>0.372109</td>\n",
       "      <td>0.840467</td>\n",
       "      <td>0.310529</td>\n",
       "    </tr>\n",
       "    <tr>\n",
       "      <th>333</th>\n",
       "      <td>0.622005</td>\n",
       "      <td>0.042342</td>\n",
       "      <td>0.366383</td>\n",
       "      <td>0.649594</td>\n",
       "      <td>0.020173</td>\n",
       "    </tr>\n",
       "  </tbody>\n",
       "</table>\n",
       "<p>334 rows × 5 columns</p>\n",
       "</div>"
      ],
      "text/plain": [
       "            0         1         2         3         4\n",
       "0    0.234046  0.321414  0.447885  0.800382  0.776157\n",
       "1    0.605159  0.251722  0.876063  0.906049  0.227268\n",
       "2    0.346432  0.260942  0.461695  0.724874  0.141755\n",
       "3    0.319119  0.596981  0.382728  0.366957  0.934491\n",
       "4    0.976809  0.706636  0.752684  0.986324  0.671085\n",
       "..        ...       ...       ...       ...       ...\n",
       "329  0.225005  0.495566  0.687279  0.082345  0.048840\n",
       "330  0.794263  0.340483  0.981171  0.168398  0.166115\n",
       "331  0.357801  0.753625  0.028218  0.395173  0.635905\n",
       "332  0.486229  0.939932  0.372109  0.840467  0.310529\n",
       "333  0.622005  0.042342  0.366383  0.649594  0.020173\n",
       "\n",
       "[334 rows x 5 columns]"
      ]
     },
     "execution_count": 18,
     "metadata": {},
     "output_type": "execute_result"
    }
   ],
   "source": [
    "newdf"
   ]
  },
  {
   "cell_type": "code",
   "execution_count": 19,
   "id": "536ae039",
   "metadata": {},
   "outputs": [
    {
     "data": {
      "text/html": [
       "<div>\n",
       "<style scoped>\n",
       "    .dataframe tbody tr th:only-of-type {\n",
       "        vertical-align: middle;\n",
       "    }\n",
       "\n",
       "    .dataframe tbody tr th {\n",
       "        vertical-align: top;\n",
       "    }\n",
       "\n",
       "    .dataframe thead th {\n",
       "        text-align: right;\n",
       "    }\n",
       "</style>\n",
       "<table border=\"1\" class=\"dataframe\">\n",
       "  <thead>\n",
       "    <tr style=\"text-align: right;\">\n",
       "      <th></th>\n",
       "      <th>0</th>\n",
       "      <th>1</th>\n",
       "      <th>2</th>\n",
       "      <th>3</th>\n",
       "      <th>4</th>\n",
       "    </tr>\n",
       "  </thead>\n",
       "  <tbody>\n",
       "    <tr>\n",
       "      <th>count</th>\n",
       "      <td>334.000000</td>\n",
       "      <td>334.000000</td>\n",
       "      <td>334.000000</td>\n",
       "      <td>334.000000</td>\n",
       "      <td>334.000000</td>\n",
       "    </tr>\n",
       "    <tr>\n",
       "      <th>mean</th>\n",
       "      <td>0.499357</td>\n",
       "      <td>0.495544</td>\n",
       "      <td>0.486950</td>\n",
       "      <td>0.494635</td>\n",
       "      <td>0.493961</td>\n",
       "    </tr>\n",
       "    <tr>\n",
       "      <th>std</th>\n",
       "      <td>0.305876</td>\n",
       "      <td>0.304158</td>\n",
       "      <td>0.286436</td>\n",
       "      <td>0.290858</td>\n",
       "      <td>0.278071</td>\n",
       "    </tr>\n",
       "    <tr>\n",
       "      <th>min</th>\n",
       "      <td>0.000364</td>\n",
       "      <td>0.005183</td>\n",
       "      <td>0.005199</td>\n",
       "      <td>0.003558</td>\n",
       "      <td>0.011208</td>\n",
       "    </tr>\n",
       "    <tr>\n",
       "      <th>25%</th>\n",
       "      <td>0.225027</td>\n",
       "      <td>0.211681</td>\n",
       "      <td>0.245485</td>\n",
       "      <td>0.241161</td>\n",
       "      <td>0.255799</td>\n",
       "    </tr>\n",
       "    <tr>\n",
       "      <th>50%</th>\n",
       "      <td>0.498814</td>\n",
       "      <td>0.488219</td>\n",
       "      <td>0.480445</td>\n",
       "      <td>0.492548</td>\n",
       "      <td>0.506443</td>\n",
       "    </tr>\n",
       "    <tr>\n",
       "      <th>75%</th>\n",
       "      <td>0.782205</td>\n",
       "      <td>0.773335</td>\n",
       "      <td>0.735652</td>\n",
       "      <td>0.744018</td>\n",
       "      <td>0.729685</td>\n",
       "    </tr>\n",
       "    <tr>\n",
       "      <th>max</th>\n",
       "      <td>0.999279</td>\n",
       "      <td>0.999985</td>\n",
       "      <td>0.999091</td>\n",
       "      <td>0.998340</td>\n",
       "      <td>0.995172</td>\n",
       "    </tr>\n",
       "  </tbody>\n",
       "</table>\n",
       "</div>"
      ],
      "text/plain": [
       "                0           1           2           3           4\n",
       "count  334.000000  334.000000  334.000000  334.000000  334.000000\n",
       "mean     0.499357    0.495544    0.486950    0.494635    0.493961\n",
       "std      0.305876    0.304158    0.286436    0.290858    0.278071\n",
       "min      0.000364    0.005183    0.005199    0.003558    0.011208\n",
       "25%      0.225027    0.211681    0.245485    0.241161    0.255799\n",
       "50%      0.498814    0.488219    0.480445    0.492548    0.506443\n",
       "75%      0.782205    0.773335    0.735652    0.744018    0.729685\n",
       "max      0.999279    0.999985    0.999091    0.998340    0.995172"
      ]
     },
     "execution_count": 19,
     "metadata": {},
     "output_type": "execute_result"
    }
   ],
   "source": [
    "\n",
    "newdf.describe(include=\"all\")"
   ]
  },
  {
   "cell_type": "code",
   "execution_count": 20,
   "id": "baca55ec",
   "metadata": {},
   "outputs": [
    {
     "data": {
      "text/plain": [
       "0    float64\n",
       "1    float64\n",
       "2    float64\n",
       "3    float64\n",
       "4    float64\n",
       "dtype: object"
      ]
     },
     "execution_count": 20,
     "metadata": {},
     "output_type": "execute_result"
    }
   ],
   "source": [
    "newdf.dtypes"
   ]
  },
  {
   "cell_type": "code",
   "execution_count": 21,
   "id": "259605f5",
   "metadata": {},
   "outputs": [
    {
     "data": {
      "text/plain": [
       "array([[0.23404582, 0.32141352, 0.44788511, 0.80038206, 0.77615706],\n",
       "       [0.60515898, 0.25172218, 0.87606268, 0.90604921, 0.22726762],\n",
       "       [0.34643154, 0.26094229, 0.46169504, 0.72487417, 0.14175509],\n",
       "       ...,\n",
       "       [0.3578014 , 0.75362466, 0.02821815, 0.39517283, 0.63590459],\n",
       "       [0.48622869, 0.93993239, 0.37210891, 0.84046663, 0.31052867],\n",
       "       [0.62200473, 0.04234211, 0.36638339, 0.64959365, 0.02017327]])"
      ]
     },
     "execution_count": 21,
     "metadata": {},
     "output_type": "execute_result"
    }
   ],
   "source": [
    "newdf.to_numpy()"
   ]
  },
  {
   "cell_type": "code",
   "execution_count": 22,
   "id": "01087afb",
   "metadata": {},
   "outputs": [
    {
     "data": {
      "text/html": [
       "<div>\n",
       "<style scoped>\n",
       "    .dataframe tbody tr th:only-of-type {\n",
       "        vertical-align: middle;\n",
       "    }\n",
       "\n",
       "    .dataframe tbody tr th {\n",
       "        vertical-align: top;\n",
       "    }\n",
       "\n",
       "    .dataframe thead th {\n",
       "        text-align: right;\n",
       "    }\n",
       "</style>\n",
       "<table border=\"1\" class=\"dataframe\">\n",
       "  <thead>\n",
       "    <tr style=\"text-align: right;\">\n",
       "      <th></th>\n",
       "      <th>0</th>\n",
       "      <th>1</th>\n",
       "      <th>2</th>\n",
       "      <th>3</th>\n",
       "      <th>4</th>\n",
       "      <th>5</th>\n",
       "      <th>6</th>\n",
       "      <th>7</th>\n",
       "      <th>8</th>\n",
       "      <th>9</th>\n",
       "      <th>...</th>\n",
       "      <th>324</th>\n",
       "      <th>325</th>\n",
       "      <th>326</th>\n",
       "      <th>327</th>\n",
       "      <th>328</th>\n",
       "      <th>329</th>\n",
       "      <th>330</th>\n",
       "      <th>331</th>\n",
       "      <th>332</th>\n",
       "      <th>333</th>\n",
       "    </tr>\n",
       "  </thead>\n",
       "  <tbody>\n",
       "    <tr>\n",
       "      <th>0</th>\n",
       "      <td>0.234046</td>\n",
       "      <td>0.605159</td>\n",
       "      <td>0.346432</td>\n",
       "      <td>0.319119</td>\n",
       "      <td>0.976809</td>\n",
       "      <td>0.037711</td>\n",
       "      <td>0.082733</td>\n",
       "      <td>0.632177</td>\n",
       "      <td>0.036980</td>\n",
       "      <td>0.131104</td>\n",
       "      <td>...</td>\n",
       "      <td>0.569616</td>\n",
       "      <td>0.775285</td>\n",
       "      <td>0.212250</td>\n",
       "      <td>0.878077</td>\n",
       "      <td>0.618755</td>\n",
       "      <td>0.225005</td>\n",
       "      <td>0.794263</td>\n",
       "      <td>0.357801</td>\n",
       "      <td>0.486229</td>\n",
       "      <td>0.622005</td>\n",
       "    </tr>\n",
       "    <tr>\n",
       "      <th>1</th>\n",
       "      <td>0.321414</td>\n",
       "      <td>0.251722</td>\n",
       "      <td>0.260942</td>\n",
       "      <td>0.596981</td>\n",
       "      <td>0.706636</td>\n",
       "      <td>0.957506</td>\n",
       "      <td>0.952554</td>\n",
       "      <td>0.398498</td>\n",
       "      <td>0.458459</td>\n",
       "      <td>0.103045</td>\n",
       "      <td>...</td>\n",
       "      <td>0.185368</td>\n",
       "      <td>0.936763</td>\n",
       "      <td>0.723108</td>\n",
       "      <td>0.281384</td>\n",
       "      <td>0.969336</td>\n",
       "      <td>0.495566</td>\n",
       "      <td>0.340483</td>\n",
       "      <td>0.753625</td>\n",
       "      <td>0.939932</td>\n",
       "      <td>0.042342</td>\n",
       "    </tr>\n",
       "    <tr>\n",
       "      <th>2</th>\n",
       "      <td>0.447885</td>\n",
       "      <td>0.876063</td>\n",
       "      <td>0.461695</td>\n",
       "      <td>0.382728</td>\n",
       "      <td>0.752684</td>\n",
       "      <td>0.699327</td>\n",
       "      <td>0.785596</td>\n",
       "      <td>0.912758</td>\n",
       "      <td>0.836237</td>\n",
       "      <td>0.389956</td>\n",
       "      <td>...</td>\n",
       "      <td>0.139237</td>\n",
       "      <td>0.258478</td>\n",
       "      <td>0.653802</td>\n",
       "      <td>0.520615</td>\n",
       "      <td>0.804238</td>\n",
       "      <td>0.687279</td>\n",
       "      <td>0.981171</td>\n",
       "      <td>0.028218</td>\n",
       "      <td>0.372109</td>\n",
       "      <td>0.366383</td>\n",
       "    </tr>\n",
       "    <tr>\n",
       "      <th>3</th>\n",
       "      <td>0.800382</td>\n",
       "      <td>0.906049</td>\n",
       "      <td>0.724874</td>\n",
       "      <td>0.366957</td>\n",
       "      <td>0.986324</td>\n",
       "      <td>0.185515</td>\n",
       "      <td>0.613081</td>\n",
       "      <td>0.761424</td>\n",
       "      <td>0.103865</td>\n",
       "      <td>0.645334</td>\n",
       "      <td>...</td>\n",
       "      <td>0.833519</td>\n",
       "      <td>0.467863</td>\n",
       "      <td>0.626898</td>\n",
       "      <td>0.491240</td>\n",
       "      <td>0.771303</td>\n",
       "      <td>0.082345</td>\n",
       "      <td>0.168398</td>\n",
       "      <td>0.395173</td>\n",
       "      <td>0.840467</td>\n",
       "      <td>0.649594</td>\n",
       "    </tr>\n",
       "    <tr>\n",
       "      <th>4</th>\n",
       "      <td>0.776157</td>\n",
       "      <td>0.227268</td>\n",
       "      <td>0.141755</td>\n",
       "      <td>0.934491</td>\n",
       "      <td>0.671085</td>\n",
       "      <td>0.813400</td>\n",
       "      <td>0.808115</td>\n",
       "      <td>0.458077</td>\n",
       "      <td>0.016620</td>\n",
       "      <td>0.061835</td>\n",
       "      <td>...</td>\n",
       "      <td>0.654447</td>\n",
       "      <td>0.358657</td>\n",
       "      <td>0.377197</td>\n",
       "      <td>0.596898</td>\n",
       "      <td>0.296786</td>\n",
       "      <td>0.048840</td>\n",
       "      <td>0.166115</td>\n",
       "      <td>0.635905</td>\n",
       "      <td>0.310529</td>\n",
       "      <td>0.020173</td>\n",
       "    </tr>\n",
       "  </tbody>\n",
       "</table>\n",
       "<p>5 rows × 334 columns</p>\n",
       "</div>"
      ],
      "text/plain": [
       "        0         1         2         3         4         5         6    \\\n",
       "0  0.234046  0.605159  0.346432  0.319119  0.976809  0.037711  0.082733   \n",
       "1  0.321414  0.251722  0.260942  0.596981  0.706636  0.957506  0.952554   \n",
       "2  0.447885  0.876063  0.461695  0.382728  0.752684  0.699327  0.785596   \n",
       "3  0.800382  0.906049  0.724874  0.366957  0.986324  0.185515  0.613081   \n",
       "4  0.776157  0.227268  0.141755  0.934491  0.671085  0.813400  0.808115   \n",
       "\n",
       "        7         8         9    ...       324       325       326       327  \\\n",
       "0  0.632177  0.036980  0.131104  ...  0.569616  0.775285  0.212250  0.878077   \n",
       "1  0.398498  0.458459  0.103045  ...  0.185368  0.936763  0.723108  0.281384   \n",
       "2  0.912758  0.836237  0.389956  ...  0.139237  0.258478  0.653802  0.520615   \n",
       "3  0.761424  0.103865  0.645334  ...  0.833519  0.467863  0.626898  0.491240   \n",
       "4  0.458077  0.016620  0.061835  ...  0.654447  0.358657  0.377197  0.596898   \n",
       "\n",
       "        328       329       330       331       332       333  \n",
       "0  0.618755  0.225005  0.794263  0.357801  0.486229  0.622005  \n",
       "1  0.969336  0.495566  0.340483  0.753625  0.939932  0.042342  \n",
       "2  0.804238  0.687279  0.981171  0.028218  0.372109  0.366383  \n",
       "3  0.771303  0.082345  0.168398  0.395173  0.840467  0.649594  \n",
       "4  0.296786  0.048840  0.166115  0.635905  0.310529  0.020173  \n",
       "\n",
       "[5 rows x 334 columns]"
      ]
     },
     "execution_count": 22,
     "metadata": {},
     "output_type": "execute_result"
    }
   ],
   "source": [
    "newdf.T"
   ]
  },
  {
   "cell_type": "code",
   "execution_count": 23,
   "id": "eee61312",
   "metadata": {},
   "outputs": [
    {
     "data": {
      "text/html": [
       "<div>\n",
       "<style scoped>\n",
       "    .dataframe tbody tr th:only-of-type {\n",
       "        vertical-align: middle;\n",
       "    }\n",
       "\n",
       "    .dataframe tbody tr th {\n",
       "        vertical-align: top;\n",
       "    }\n",
       "\n",
       "    .dataframe thead th {\n",
       "        text-align: right;\n",
       "    }\n",
       "</style>\n",
       "<table border=\"1\" class=\"dataframe\">\n",
       "  <thead>\n",
       "    <tr style=\"text-align: right;\">\n",
       "      <th></th>\n",
       "      <th>0</th>\n",
       "      <th>1</th>\n",
       "      <th>2</th>\n",
       "      <th>3</th>\n",
       "      <th>4</th>\n",
       "    </tr>\n",
       "  </thead>\n",
       "  <tbody>\n",
       "    <tr>\n",
       "      <th>0</th>\n",
       "      <td>0.234046</td>\n",
       "      <td>0.321414</td>\n",
       "      <td>0.447885</td>\n",
       "      <td>0.800382</td>\n",
       "      <td>0.776157</td>\n",
       "    </tr>\n",
       "    <tr>\n",
       "      <th>1</th>\n",
       "      <td>0.605159</td>\n",
       "      <td>0.251722</td>\n",
       "      <td>0.876063</td>\n",
       "      <td>0.906049</td>\n",
       "      <td>0.227268</td>\n",
       "    </tr>\n",
       "    <tr>\n",
       "      <th>2</th>\n",
       "      <td>0.346432</td>\n",
       "      <td>0.260942</td>\n",
       "      <td>0.461695</td>\n",
       "      <td>0.724874</td>\n",
       "      <td>0.141755</td>\n",
       "    </tr>\n",
       "    <tr>\n",
       "      <th>3</th>\n",
       "      <td>0.319119</td>\n",
       "      <td>0.596981</td>\n",
       "      <td>0.382728</td>\n",
       "      <td>0.366957</td>\n",
       "      <td>0.934491</td>\n",
       "    </tr>\n",
       "    <tr>\n",
       "      <th>4</th>\n",
       "      <td>0.976809</td>\n",
       "      <td>0.706636</td>\n",
       "      <td>0.752684</td>\n",
       "      <td>0.986324</td>\n",
       "      <td>0.671085</td>\n",
       "    </tr>\n",
       "    <tr>\n",
       "      <th>...</th>\n",
       "      <td>...</td>\n",
       "      <td>...</td>\n",
       "      <td>...</td>\n",
       "      <td>...</td>\n",
       "      <td>...</td>\n",
       "    </tr>\n",
       "    <tr>\n",
       "      <th>329</th>\n",
       "      <td>0.225005</td>\n",
       "      <td>0.495566</td>\n",
       "      <td>0.687279</td>\n",
       "      <td>0.082345</td>\n",
       "      <td>0.048840</td>\n",
       "    </tr>\n",
       "    <tr>\n",
       "      <th>330</th>\n",
       "      <td>0.794263</td>\n",
       "      <td>0.340483</td>\n",
       "      <td>0.981171</td>\n",
       "      <td>0.168398</td>\n",
       "      <td>0.166115</td>\n",
       "    </tr>\n",
       "    <tr>\n",
       "      <th>331</th>\n",
       "      <td>0.357801</td>\n",
       "      <td>0.753625</td>\n",
       "      <td>0.028218</td>\n",
       "      <td>0.395173</td>\n",
       "      <td>0.635905</td>\n",
       "    </tr>\n",
       "    <tr>\n",
       "      <th>332</th>\n",
       "      <td>0.486229</td>\n",
       "      <td>0.939932</td>\n",
       "      <td>0.372109</td>\n",
       "      <td>0.840467</td>\n",
       "      <td>0.310529</td>\n",
       "    </tr>\n",
       "    <tr>\n",
       "      <th>333</th>\n",
       "      <td>0.622005</td>\n",
       "      <td>0.042342</td>\n",
       "      <td>0.366383</td>\n",
       "      <td>0.649594</td>\n",
       "      <td>0.020173</td>\n",
       "    </tr>\n",
       "  </tbody>\n",
       "</table>\n",
       "<p>334 rows × 5 columns</p>\n",
       "</div>"
      ],
      "text/plain": [
       "            0         1         2         3         4\n",
       "0    0.234046  0.321414  0.447885  0.800382  0.776157\n",
       "1    0.605159  0.251722  0.876063  0.906049  0.227268\n",
       "2    0.346432  0.260942  0.461695  0.724874  0.141755\n",
       "3    0.319119  0.596981  0.382728  0.366957  0.934491\n",
       "4    0.976809  0.706636  0.752684  0.986324  0.671085\n",
       "..        ...       ...       ...       ...       ...\n",
       "329  0.225005  0.495566  0.687279  0.082345  0.048840\n",
       "330  0.794263  0.340483  0.981171  0.168398  0.166115\n",
       "331  0.357801  0.753625  0.028218  0.395173  0.635905\n",
       "332  0.486229  0.939932  0.372109  0.840467  0.310529\n",
       "333  0.622005  0.042342  0.366383  0.649594  0.020173\n",
       "\n",
       "[334 rows x 5 columns]"
      ]
     },
     "execution_count": 23,
     "metadata": {},
     "output_type": "execute_result"
    }
   ],
   "source": [
    "newdf\n"
   ]
  },
  {
   "cell_type": "code",
   "execution_count": 24,
   "id": "454ed334",
   "metadata": {},
   "outputs": [
    {
     "data": {
      "text/plain": [
       "0      0.321414\n",
       "1      0.251722\n",
       "2      0.260942\n",
       "3      0.596981\n",
       "4      0.706636\n",
       "         ...   \n",
       "329    0.495566\n",
       "330    0.340483\n",
       "331    0.753625\n",
       "332    0.939932\n",
       "333    0.042342\n",
       "Name: 1, Length: 334, dtype: float64"
      ]
     },
     "execution_count": 24,
     "metadata": {},
     "output_type": "execute_result"
    }
   ],
   "source": [
    "newdf[1]"
   ]
  },
  {
   "cell_type": "code",
   "execution_count": 25,
   "id": "b84f487d",
   "metadata": {},
   "outputs": [],
   "source": [
    "newdf2=newdf.copy()\n"
   ]
  },
  {
   "cell_type": "code",
   "execution_count": 26,
   "id": "ce457273",
   "metadata": {},
   "outputs": [
    {
     "data": {
      "text/html": [
       "<div>\n",
       "<style scoped>\n",
       "    .dataframe tbody tr th:only-of-type {\n",
       "        vertical-align: middle;\n",
       "    }\n",
       "\n",
       "    .dataframe tbody tr th {\n",
       "        vertical-align: top;\n",
       "    }\n",
       "\n",
       "    .dataframe thead th {\n",
       "        text-align: right;\n",
       "    }\n",
       "</style>\n",
       "<table border=\"1\" class=\"dataframe\">\n",
       "  <thead>\n",
       "    <tr style=\"text-align: right;\">\n",
       "      <th></th>\n",
       "      <th>0</th>\n",
       "      <th>1</th>\n",
       "      <th>2</th>\n",
       "      <th>3</th>\n",
       "      <th>4</th>\n",
       "    </tr>\n",
       "  </thead>\n",
       "  <tbody>\n",
       "    <tr>\n",
       "      <th>0</th>\n",
       "      <td>0.234046</td>\n",
       "      <td>0.321414</td>\n",
       "      <td>0.447885</td>\n",
       "      <td>0.800382</td>\n",
       "      <td>0.776157</td>\n",
       "    </tr>\n",
       "    <tr>\n",
       "      <th>1</th>\n",
       "      <td>0.605159</td>\n",
       "      <td>0.251722</td>\n",
       "      <td>0.876063</td>\n",
       "      <td>0.906049</td>\n",
       "      <td>0.227268</td>\n",
       "    </tr>\n",
       "    <tr>\n",
       "      <th>2</th>\n",
       "      <td>0.346432</td>\n",
       "      <td>0.260942</td>\n",
       "      <td>0.461695</td>\n",
       "      <td>0.724874</td>\n",
       "      <td>0.141755</td>\n",
       "    </tr>\n",
       "    <tr>\n",
       "      <th>3</th>\n",
       "      <td>0.319119</td>\n",
       "      <td>0.596981</td>\n",
       "      <td>0.382728</td>\n",
       "      <td>0.366957</td>\n",
       "      <td>0.934491</td>\n",
       "    </tr>\n",
       "    <tr>\n",
       "      <th>4</th>\n",
       "      <td>0.976809</td>\n",
       "      <td>0.706636</td>\n",
       "      <td>0.752684</td>\n",
       "      <td>0.986324</td>\n",
       "      <td>0.671085</td>\n",
       "    </tr>\n",
       "    <tr>\n",
       "      <th>...</th>\n",
       "      <td>...</td>\n",
       "      <td>...</td>\n",
       "      <td>...</td>\n",
       "      <td>...</td>\n",
       "      <td>...</td>\n",
       "    </tr>\n",
       "    <tr>\n",
       "      <th>329</th>\n",
       "      <td>0.225005</td>\n",
       "      <td>0.495566</td>\n",
       "      <td>0.687279</td>\n",
       "      <td>0.082345</td>\n",
       "      <td>0.048840</td>\n",
       "    </tr>\n",
       "    <tr>\n",
       "      <th>330</th>\n",
       "      <td>0.794263</td>\n",
       "      <td>0.340483</td>\n",
       "      <td>0.981171</td>\n",
       "      <td>0.168398</td>\n",
       "      <td>0.166115</td>\n",
       "    </tr>\n",
       "    <tr>\n",
       "      <th>331</th>\n",
       "      <td>0.357801</td>\n",
       "      <td>0.753625</td>\n",
       "      <td>0.028218</td>\n",
       "      <td>0.395173</td>\n",
       "      <td>0.635905</td>\n",
       "    </tr>\n",
       "    <tr>\n",
       "      <th>332</th>\n",
       "      <td>0.486229</td>\n",
       "      <td>0.939932</td>\n",
       "      <td>0.372109</td>\n",
       "      <td>0.840467</td>\n",
       "      <td>0.310529</td>\n",
       "    </tr>\n",
       "    <tr>\n",
       "      <th>333</th>\n",
       "      <td>0.622005</td>\n",
       "      <td>0.042342</td>\n",
       "      <td>0.366383</td>\n",
       "      <td>0.649594</td>\n",
       "      <td>0.020173</td>\n",
       "    </tr>\n",
       "  </tbody>\n",
       "</table>\n",
       "<p>334 rows × 5 columns</p>\n",
       "</div>"
      ],
      "text/plain": [
       "            0         1         2         3         4\n",
       "0    0.234046  0.321414  0.447885  0.800382  0.776157\n",
       "1    0.605159  0.251722  0.876063  0.906049  0.227268\n",
       "2    0.346432  0.260942  0.461695  0.724874  0.141755\n",
       "3    0.319119  0.596981  0.382728  0.366957  0.934491\n",
       "4    0.976809  0.706636  0.752684  0.986324  0.671085\n",
       "..        ...       ...       ...       ...       ...\n",
       "329  0.225005  0.495566  0.687279  0.082345  0.048840\n",
       "330  0.794263  0.340483  0.981171  0.168398  0.166115\n",
       "331  0.357801  0.753625  0.028218  0.395173  0.635905\n",
       "332  0.486229  0.939932  0.372109  0.840467  0.310529\n",
       "333  0.622005  0.042342  0.366383  0.649594  0.020173\n",
       "\n",
       "[334 rows x 5 columns]"
      ]
     },
     "execution_count": 26,
     "metadata": {},
     "output_type": "execute_result"
    }
   ],
   "source": [
    "newdf2\n"
   ]
  },
  {
   "cell_type": "code",
   "execution_count": 27,
   "id": "178b6f6c",
   "metadata": {},
   "outputs": [],
   "source": [
    "newdf[0][0]=0.34"
   ]
  },
  {
   "cell_type": "code",
   "execution_count": 28,
   "id": "28a2c024",
   "metadata": {},
   "outputs": [
    {
     "data": {
      "text/html": [
       "<div>\n",
       "<style scoped>\n",
       "    .dataframe tbody tr th:only-of-type {\n",
       "        vertical-align: middle;\n",
       "    }\n",
       "\n",
       "    .dataframe tbody tr th {\n",
       "        vertical-align: top;\n",
       "    }\n",
       "\n",
       "    .dataframe thead th {\n",
       "        text-align: right;\n",
       "    }\n",
       "</style>\n",
       "<table border=\"1\" class=\"dataframe\">\n",
       "  <thead>\n",
       "    <tr style=\"text-align: right;\">\n",
       "      <th></th>\n",
       "      <th>0</th>\n",
       "      <th>1</th>\n",
       "      <th>2</th>\n",
       "      <th>3</th>\n",
       "      <th>4</th>\n",
       "    </tr>\n",
       "  </thead>\n",
       "  <tbody>\n",
       "    <tr>\n",
       "      <th>0</th>\n",
       "      <td>0.234046</td>\n",
       "      <td>0.321414</td>\n",
       "      <td>0.447885</td>\n",
       "      <td>0.800382</td>\n",
       "      <td>0.776157</td>\n",
       "    </tr>\n",
       "    <tr>\n",
       "      <th>1</th>\n",
       "      <td>0.605159</td>\n",
       "      <td>0.251722</td>\n",
       "      <td>0.876063</td>\n",
       "      <td>0.906049</td>\n",
       "      <td>0.227268</td>\n",
       "    </tr>\n",
       "    <tr>\n",
       "      <th>2</th>\n",
       "      <td>0.346432</td>\n",
       "      <td>0.260942</td>\n",
       "      <td>0.461695</td>\n",
       "      <td>0.724874</td>\n",
       "      <td>0.141755</td>\n",
       "    </tr>\n",
       "    <tr>\n",
       "      <th>3</th>\n",
       "      <td>0.319119</td>\n",
       "      <td>0.596981</td>\n",
       "      <td>0.382728</td>\n",
       "      <td>0.366957</td>\n",
       "      <td>0.934491</td>\n",
       "    </tr>\n",
       "    <tr>\n",
       "      <th>4</th>\n",
       "      <td>0.976809</td>\n",
       "      <td>0.706636</td>\n",
       "      <td>0.752684</td>\n",
       "      <td>0.986324</td>\n",
       "      <td>0.671085</td>\n",
       "    </tr>\n",
       "    <tr>\n",
       "      <th>...</th>\n",
       "      <td>...</td>\n",
       "      <td>...</td>\n",
       "      <td>...</td>\n",
       "      <td>...</td>\n",
       "      <td>...</td>\n",
       "    </tr>\n",
       "    <tr>\n",
       "      <th>329</th>\n",
       "      <td>0.225005</td>\n",
       "      <td>0.495566</td>\n",
       "      <td>0.687279</td>\n",
       "      <td>0.082345</td>\n",
       "      <td>0.048840</td>\n",
       "    </tr>\n",
       "    <tr>\n",
       "      <th>330</th>\n",
       "      <td>0.794263</td>\n",
       "      <td>0.340483</td>\n",
       "      <td>0.981171</td>\n",
       "      <td>0.168398</td>\n",
       "      <td>0.166115</td>\n",
       "    </tr>\n",
       "    <tr>\n",
       "      <th>331</th>\n",
       "      <td>0.357801</td>\n",
       "      <td>0.753625</td>\n",
       "      <td>0.028218</td>\n",
       "      <td>0.395173</td>\n",
       "      <td>0.635905</td>\n",
       "    </tr>\n",
       "    <tr>\n",
       "      <th>332</th>\n",
       "      <td>0.486229</td>\n",
       "      <td>0.939932</td>\n",
       "      <td>0.372109</td>\n",
       "      <td>0.840467</td>\n",
       "      <td>0.310529</td>\n",
       "    </tr>\n",
       "    <tr>\n",
       "      <th>333</th>\n",
       "      <td>0.622005</td>\n",
       "      <td>0.042342</td>\n",
       "      <td>0.366383</td>\n",
       "      <td>0.649594</td>\n",
       "      <td>0.020173</td>\n",
       "    </tr>\n",
       "  </tbody>\n",
       "</table>\n",
       "<p>334 rows × 5 columns</p>\n",
       "</div>"
      ],
      "text/plain": [
       "            0         1         2         3         4\n",
       "0    0.234046  0.321414  0.447885  0.800382  0.776157\n",
       "1    0.605159  0.251722  0.876063  0.906049  0.227268\n",
       "2    0.346432  0.260942  0.461695  0.724874  0.141755\n",
       "3    0.319119  0.596981  0.382728  0.366957  0.934491\n",
       "4    0.976809  0.706636  0.752684  0.986324  0.671085\n",
       "..        ...       ...       ...       ...       ...\n",
       "329  0.225005  0.495566  0.687279  0.082345  0.048840\n",
       "330  0.794263  0.340483  0.981171  0.168398  0.166115\n",
       "331  0.357801  0.753625  0.028218  0.395173  0.635905\n",
       "332  0.486229  0.939932  0.372109  0.840467  0.310529\n",
       "333  0.622005  0.042342  0.366383  0.649594  0.020173\n",
       "\n",
       "[334 rows x 5 columns]"
      ]
     },
     "execution_count": 28,
     "metadata": {},
     "output_type": "execute_result"
    }
   ],
   "source": [
    "newdf2"
   ]
  },
  {
   "cell_type": "code",
   "execution_count": 29,
   "id": "18679233",
   "metadata": {},
   "outputs": [
    {
     "data": {
      "text/html": [
       "<div>\n",
       "<style scoped>\n",
       "    .dataframe tbody tr th:only-of-type {\n",
       "        vertical-align: middle;\n",
       "    }\n",
       "\n",
       "    .dataframe tbody tr th {\n",
       "        vertical-align: top;\n",
       "    }\n",
       "\n",
       "    .dataframe thead th {\n",
       "        text-align: right;\n",
       "    }\n",
       "</style>\n",
       "<table border=\"1\" class=\"dataframe\">\n",
       "  <thead>\n",
       "    <tr style=\"text-align: right;\">\n",
       "      <th></th>\n",
       "      <th>0</th>\n",
       "      <th>1</th>\n",
       "      <th>2</th>\n",
       "      <th>3</th>\n",
       "      <th>4</th>\n",
       "    </tr>\n",
       "  </thead>\n",
       "  <tbody>\n",
       "    <tr>\n",
       "      <th>0</th>\n",
       "      <td>0.340000</td>\n",
       "      <td>0.321414</td>\n",
       "      <td>0.447885</td>\n",
       "      <td>0.800382</td>\n",
       "      <td>0.776157</td>\n",
       "    </tr>\n",
       "    <tr>\n",
       "      <th>1</th>\n",
       "      <td>0.605159</td>\n",
       "      <td>0.251722</td>\n",
       "      <td>0.876063</td>\n",
       "      <td>0.906049</td>\n",
       "      <td>0.227268</td>\n",
       "    </tr>\n",
       "    <tr>\n",
       "      <th>2</th>\n",
       "      <td>0.346432</td>\n",
       "      <td>0.260942</td>\n",
       "      <td>0.461695</td>\n",
       "      <td>0.724874</td>\n",
       "      <td>0.141755</td>\n",
       "    </tr>\n",
       "    <tr>\n",
       "      <th>3</th>\n",
       "      <td>0.319119</td>\n",
       "      <td>0.596981</td>\n",
       "      <td>0.382728</td>\n",
       "      <td>0.366957</td>\n",
       "      <td>0.934491</td>\n",
       "    </tr>\n",
       "    <tr>\n",
       "      <th>4</th>\n",
       "      <td>0.976809</td>\n",
       "      <td>0.706636</td>\n",
       "      <td>0.752684</td>\n",
       "      <td>0.986324</td>\n",
       "      <td>0.671085</td>\n",
       "    </tr>\n",
       "    <tr>\n",
       "      <th>...</th>\n",
       "      <td>...</td>\n",
       "      <td>...</td>\n",
       "      <td>...</td>\n",
       "      <td>...</td>\n",
       "      <td>...</td>\n",
       "    </tr>\n",
       "    <tr>\n",
       "      <th>329</th>\n",
       "      <td>0.225005</td>\n",
       "      <td>0.495566</td>\n",
       "      <td>0.687279</td>\n",
       "      <td>0.082345</td>\n",
       "      <td>0.048840</td>\n",
       "    </tr>\n",
       "    <tr>\n",
       "      <th>330</th>\n",
       "      <td>0.794263</td>\n",
       "      <td>0.340483</td>\n",
       "      <td>0.981171</td>\n",
       "      <td>0.168398</td>\n",
       "      <td>0.166115</td>\n",
       "    </tr>\n",
       "    <tr>\n",
       "      <th>331</th>\n",
       "      <td>0.357801</td>\n",
       "      <td>0.753625</td>\n",
       "      <td>0.028218</td>\n",
       "      <td>0.395173</td>\n",
       "      <td>0.635905</td>\n",
       "    </tr>\n",
       "    <tr>\n",
       "      <th>332</th>\n",
       "      <td>0.486229</td>\n",
       "      <td>0.939932</td>\n",
       "      <td>0.372109</td>\n",
       "      <td>0.840467</td>\n",
       "      <td>0.310529</td>\n",
       "    </tr>\n",
       "    <tr>\n",
       "      <th>333</th>\n",
       "      <td>0.622005</td>\n",
       "      <td>0.042342</td>\n",
       "      <td>0.366383</td>\n",
       "      <td>0.649594</td>\n",
       "      <td>0.020173</td>\n",
       "    </tr>\n",
       "  </tbody>\n",
       "</table>\n",
       "<p>334 rows × 5 columns</p>\n",
       "</div>"
      ],
      "text/plain": [
       "            0         1         2         3         4\n",
       "0    0.340000  0.321414  0.447885  0.800382  0.776157\n",
       "1    0.605159  0.251722  0.876063  0.906049  0.227268\n",
       "2    0.346432  0.260942  0.461695  0.724874  0.141755\n",
       "3    0.319119  0.596981  0.382728  0.366957  0.934491\n",
       "4    0.976809  0.706636  0.752684  0.986324  0.671085\n",
       "..        ...       ...       ...       ...       ...\n",
       "329  0.225005  0.495566  0.687279  0.082345  0.048840\n",
       "330  0.794263  0.340483  0.981171  0.168398  0.166115\n",
       "331  0.357801  0.753625  0.028218  0.395173  0.635905\n",
       "332  0.486229  0.939932  0.372109  0.840467  0.310529\n",
       "333  0.622005  0.042342  0.366383  0.649594  0.020173\n",
       "\n",
       "[334 rows x 5 columns]"
      ]
     },
     "execution_count": 29,
     "metadata": {},
     "output_type": "execute_result"
    }
   ],
   "source": [
    "newdf"
   ]
  },
  {
   "cell_type": "code",
   "execution_count": 30,
   "id": "f881e7ef",
   "metadata": {},
   "outputs": [],
   "source": [
    "newdf.columns=list(\"ABCDE\")"
   ]
  },
  {
   "cell_type": "code",
   "execution_count": 31,
   "id": "dd1eda79",
   "metadata": {},
   "outputs": [
    {
     "data": {
      "text/html": [
       "<div>\n",
       "<style scoped>\n",
       "    .dataframe tbody tr th:only-of-type {\n",
       "        vertical-align: middle;\n",
       "    }\n",
       "\n",
       "    .dataframe tbody tr th {\n",
       "        vertical-align: top;\n",
       "    }\n",
       "\n",
       "    .dataframe thead th {\n",
       "        text-align: right;\n",
       "    }\n",
       "</style>\n",
       "<table border=\"1\" class=\"dataframe\">\n",
       "  <thead>\n",
       "    <tr style=\"text-align: right;\">\n",
       "      <th></th>\n",
       "      <th>A</th>\n",
       "      <th>B</th>\n",
       "      <th>C</th>\n",
       "      <th>D</th>\n",
       "      <th>E</th>\n",
       "    </tr>\n",
       "  </thead>\n",
       "  <tbody>\n",
       "    <tr>\n",
       "      <th>0</th>\n",
       "      <td>0.340000</td>\n",
       "      <td>0.321414</td>\n",
       "      <td>0.447885</td>\n",
       "      <td>0.800382</td>\n",
       "      <td>0.776157</td>\n",
       "    </tr>\n",
       "    <tr>\n",
       "      <th>1</th>\n",
       "      <td>0.605159</td>\n",
       "      <td>0.251722</td>\n",
       "      <td>0.876063</td>\n",
       "      <td>0.906049</td>\n",
       "      <td>0.227268</td>\n",
       "    </tr>\n",
       "    <tr>\n",
       "      <th>2</th>\n",
       "      <td>0.346432</td>\n",
       "      <td>0.260942</td>\n",
       "      <td>0.461695</td>\n",
       "      <td>0.724874</td>\n",
       "      <td>0.141755</td>\n",
       "    </tr>\n",
       "    <tr>\n",
       "      <th>3</th>\n",
       "      <td>0.319119</td>\n",
       "      <td>0.596981</td>\n",
       "      <td>0.382728</td>\n",
       "      <td>0.366957</td>\n",
       "      <td>0.934491</td>\n",
       "    </tr>\n",
       "    <tr>\n",
       "      <th>4</th>\n",
       "      <td>0.976809</td>\n",
       "      <td>0.706636</td>\n",
       "      <td>0.752684</td>\n",
       "      <td>0.986324</td>\n",
       "      <td>0.671085</td>\n",
       "    </tr>\n",
       "    <tr>\n",
       "      <th>...</th>\n",
       "      <td>...</td>\n",
       "      <td>...</td>\n",
       "      <td>...</td>\n",
       "      <td>...</td>\n",
       "      <td>...</td>\n",
       "    </tr>\n",
       "    <tr>\n",
       "      <th>329</th>\n",
       "      <td>0.225005</td>\n",
       "      <td>0.495566</td>\n",
       "      <td>0.687279</td>\n",
       "      <td>0.082345</td>\n",
       "      <td>0.048840</td>\n",
       "    </tr>\n",
       "    <tr>\n",
       "      <th>330</th>\n",
       "      <td>0.794263</td>\n",
       "      <td>0.340483</td>\n",
       "      <td>0.981171</td>\n",
       "      <td>0.168398</td>\n",
       "      <td>0.166115</td>\n",
       "    </tr>\n",
       "    <tr>\n",
       "      <th>331</th>\n",
       "      <td>0.357801</td>\n",
       "      <td>0.753625</td>\n",
       "      <td>0.028218</td>\n",
       "      <td>0.395173</td>\n",
       "      <td>0.635905</td>\n",
       "    </tr>\n",
       "    <tr>\n",
       "      <th>332</th>\n",
       "      <td>0.486229</td>\n",
       "      <td>0.939932</td>\n",
       "      <td>0.372109</td>\n",
       "      <td>0.840467</td>\n",
       "      <td>0.310529</td>\n",
       "    </tr>\n",
       "    <tr>\n",
       "      <th>333</th>\n",
       "      <td>0.622005</td>\n",
       "      <td>0.042342</td>\n",
       "      <td>0.366383</td>\n",
       "      <td>0.649594</td>\n",
       "      <td>0.020173</td>\n",
       "    </tr>\n",
       "  </tbody>\n",
       "</table>\n",
       "<p>334 rows × 5 columns</p>\n",
       "</div>"
      ],
      "text/plain": [
       "            A         B         C         D         E\n",
       "0    0.340000  0.321414  0.447885  0.800382  0.776157\n",
       "1    0.605159  0.251722  0.876063  0.906049  0.227268\n",
       "2    0.346432  0.260942  0.461695  0.724874  0.141755\n",
       "3    0.319119  0.596981  0.382728  0.366957  0.934491\n",
       "4    0.976809  0.706636  0.752684  0.986324  0.671085\n",
       "..        ...       ...       ...       ...       ...\n",
       "329  0.225005  0.495566  0.687279  0.082345  0.048840\n",
       "330  0.794263  0.340483  0.981171  0.168398  0.166115\n",
       "331  0.357801  0.753625  0.028218  0.395173  0.635905\n",
       "332  0.486229  0.939932  0.372109  0.840467  0.310529\n",
       "333  0.622005  0.042342  0.366383  0.649594  0.020173\n",
       "\n",
       "[334 rows x 5 columns]"
      ]
     },
     "execution_count": 31,
     "metadata": {},
     "output_type": "execute_result"
    }
   ],
   "source": [
    "newdf"
   ]
  },
  {
   "cell_type": "code",
   "execution_count": 32,
   "id": "cb757b56",
   "metadata": {},
   "outputs": [
    {
     "data": {
      "text/html": [
       "<div>\n",
       "<style scoped>\n",
       "    .dataframe tbody tr th:only-of-type {\n",
       "        vertical-align: middle;\n",
       "    }\n",
       "\n",
       "    .dataframe tbody tr th {\n",
       "        vertical-align: top;\n",
       "    }\n",
       "\n",
       "    .dataframe thead th {\n",
       "        text-align: right;\n",
       "    }\n",
       "</style>\n",
       "<table border=\"1\" class=\"dataframe\">\n",
       "  <thead>\n",
       "    <tr style=\"text-align: right;\">\n",
       "      <th></th>\n",
       "      <th>B</th>\n",
       "    </tr>\n",
       "  </thead>\n",
       "  <tbody>\n",
       "    <tr>\n",
       "      <th>1</th>\n",
       "      <td>0.251722</td>\n",
       "    </tr>\n",
       "    <tr>\n",
       "      <th>2</th>\n",
       "      <td>0.260942</td>\n",
       "    </tr>\n",
       "  </tbody>\n",
       "</table>\n",
       "</div>"
      ],
      "text/plain": [
       "          B\n",
       "1  0.251722\n",
       "2  0.260942"
      ]
     },
     "execution_count": 32,
     "metadata": {},
     "output_type": "execute_result"
    }
   ],
   "source": [
    " newdf.loc[[1,2],['B']]"
   ]
  },
  {
   "cell_type": "code",
   "execution_count": 33,
   "id": "ff69f2fc",
   "metadata": {},
   "outputs": [
    {
     "data": {
      "text/html": [
       "<div>\n",
       "<style scoped>\n",
       "    .dataframe tbody tr th:only-of-type {\n",
       "        vertical-align: middle;\n",
       "    }\n",
       "\n",
       "    .dataframe tbody tr th {\n",
       "        vertical-align: top;\n",
       "    }\n",
       "\n",
       "    .dataframe thead th {\n",
       "        text-align: right;\n",
       "    }\n",
       "</style>\n",
       "<table border=\"1\" class=\"dataframe\">\n",
       "  <thead>\n",
       "    <tr style=\"text-align: right;\">\n",
       "      <th></th>\n",
       "      <th>A</th>\n",
       "      <th>B</th>\n",
       "      <th>C</th>\n",
       "      <th>D</th>\n",
       "      <th>E</th>\n",
       "    </tr>\n",
       "  </thead>\n",
       "  <tbody>\n",
       "    <tr>\n",
       "      <th>0</th>\n",
       "      <td>0.340000</td>\n",
       "      <td>0.321414</td>\n",
       "      <td>0.447885</td>\n",
       "      <td>0.800382</td>\n",
       "      <td>0.776157</td>\n",
       "    </tr>\n",
       "    <tr>\n",
       "      <th>1</th>\n",
       "      <td>0.605159</td>\n",
       "      <td>0.251722</td>\n",
       "      <td>0.876063</td>\n",
       "      <td>0.906049</td>\n",
       "      <td>0.227268</td>\n",
       "    </tr>\n",
       "    <tr>\n",
       "      <th>2</th>\n",
       "      <td>0.346432</td>\n",
       "      <td>0.260942</td>\n",
       "      <td>0.461695</td>\n",
       "      <td>0.724874</td>\n",
       "      <td>0.141755</td>\n",
       "    </tr>\n",
       "    <tr>\n",
       "      <th>3</th>\n",
       "      <td>0.319119</td>\n",
       "      <td>0.596981</td>\n",
       "      <td>0.382728</td>\n",
       "      <td>0.366957</td>\n",
       "      <td>0.934491</td>\n",
       "    </tr>\n",
       "    <tr>\n",
       "      <th>4</th>\n",
       "      <td>0.976809</td>\n",
       "      <td>0.706636</td>\n",
       "      <td>0.752684</td>\n",
       "      <td>0.986324</td>\n",
       "      <td>0.671085</td>\n",
       "    </tr>\n",
       "    <tr>\n",
       "      <th>...</th>\n",
       "      <td>...</td>\n",
       "      <td>...</td>\n",
       "      <td>...</td>\n",
       "      <td>...</td>\n",
       "      <td>...</td>\n",
       "    </tr>\n",
       "    <tr>\n",
       "      <th>329</th>\n",
       "      <td>0.225005</td>\n",
       "      <td>0.495566</td>\n",
       "      <td>0.687279</td>\n",
       "      <td>0.082345</td>\n",
       "      <td>0.048840</td>\n",
       "    </tr>\n",
       "    <tr>\n",
       "      <th>330</th>\n",
       "      <td>0.794263</td>\n",
       "      <td>0.340483</td>\n",
       "      <td>0.981171</td>\n",
       "      <td>0.168398</td>\n",
       "      <td>0.166115</td>\n",
       "    </tr>\n",
       "    <tr>\n",
       "      <th>331</th>\n",
       "      <td>0.357801</td>\n",
       "      <td>0.753625</td>\n",
       "      <td>0.028218</td>\n",
       "      <td>0.395173</td>\n",
       "      <td>0.635905</td>\n",
       "    </tr>\n",
       "    <tr>\n",
       "      <th>332</th>\n",
       "      <td>0.486229</td>\n",
       "      <td>0.939932</td>\n",
       "      <td>0.372109</td>\n",
       "      <td>0.840467</td>\n",
       "      <td>0.310529</td>\n",
       "    </tr>\n",
       "    <tr>\n",
       "      <th>333</th>\n",
       "      <td>0.622005</td>\n",
       "      <td>0.042342</td>\n",
       "      <td>0.366383</td>\n",
       "      <td>0.649594</td>\n",
       "      <td>0.020173</td>\n",
       "    </tr>\n",
       "  </tbody>\n",
       "</table>\n",
       "<p>334 rows × 5 columns</p>\n",
       "</div>"
      ],
      "text/plain": [
       "            A         B         C         D         E\n",
       "0    0.340000  0.321414  0.447885  0.800382  0.776157\n",
       "1    0.605159  0.251722  0.876063  0.906049  0.227268\n",
       "2    0.346432  0.260942  0.461695  0.724874  0.141755\n",
       "3    0.319119  0.596981  0.382728  0.366957  0.934491\n",
       "4    0.976809  0.706636  0.752684  0.986324  0.671085\n",
       "..        ...       ...       ...       ...       ...\n",
       "329  0.225005  0.495566  0.687279  0.082345  0.048840\n",
       "330  0.794263  0.340483  0.981171  0.168398  0.166115\n",
       "331  0.357801  0.753625  0.028218  0.395173  0.635905\n",
       "332  0.486229  0.939932  0.372109  0.840467  0.310529\n",
       "333  0.622005  0.042342  0.366383  0.649594  0.020173\n",
       "\n",
       "[334 rows x 5 columns]"
      ]
     },
     "execution_count": 33,
     "metadata": {},
     "output_type": "execute_result"
    }
   ],
   "source": [
    "newdf"
   ]
  },
  {
   "cell_type": "code",
   "execution_count": 34,
   "id": "73285fc1",
   "metadata": {},
   "outputs": [
    {
     "data": {
      "text/html": [
       "<div>\n",
       "<style scoped>\n",
       "    .dataframe tbody tr th:only-of-type {\n",
       "        vertical-align: middle;\n",
       "    }\n",
       "\n",
       "    .dataframe tbody tr th {\n",
       "        vertical-align: top;\n",
       "    }\n",
       "\n",
       "    .dataframe thead th {\n",
       "        text-align: right;\n",
       "    }\n",
       "</style>\n",
       "<table border=\"1\" class=\"dataframe\">\n",
       "  <thead>\n",
       "    <tr style=\"text-align: right;\">\n",
       "      <th></th>\n",
       "      <th>A</th>\n",
       "      <th>B</th>\n",
       "      <th>C</th>\n",
       "      <th>D</th>\n",
       "      <th>E</th>\n",
       "    </tr>\n",
       "  </thead>\n",
       "  <tbody>\n",
       "    <tr>\n",
       "      <th>0</th>\n",
       "      <td>0.340000</td>\n",
       "      <td>0.321414</td>\n",
       "      <td>0.447885</td>\n",
       "      <td>0.800382</td>\n",
       "      <td>0.776157</td>\n",
       "    </tr>\n",
       "    <tr>\n",
       "      <th>1</th>\n",
       "      <td>0.605159</td>\n",
       "      <td>0.251722</td>\n",
       "      <td>0.876063</td>\n",
       "      <td>0.906049</td>\n",
       "      <td>0.227268</td>\n",
       "    </tr>\n",
       "    <tr>\n",
       "      <th>2</th>\n",
       "      <td>0.346432</td>\n",
       "      <td>0.260942</td>\n",
       "      <td>0.461695</td>\n",
       "      <td>0.724874</td>\n",
       "      <td>0.141755</td>\n",
       "    </tr>\n",
       "  </tbody>\n",
       "</table>\n",
       "</div>"
      ],
      "text/plain": [
       "          A         B         C         D         E\n",
       "0  0.340000  0.321414  0.447885  0.800382  0.776157\n",
       "1  0.605159  0.251722  0.876063  0.906049  0.227268\n",
       "2  0.346432  0.260942  0.461695  0.724874  0.141755"
      ]
     },
     "execution_count": 34,
     "metadata": {},
     "output_type": "execute_result"
    }
   ],
   "source": [
    "newdf.head(3)\n"
   ]
  },
  {
   "cell_type": "code",
   "execution_count": 35,
   "id": "d9e0b787",
   "metadata": {},
   "outputs": [
    {
     "data": {
      "text/html": [
       "<div>\n",
       "<style scoped>\n",
       "    .dataframe tbody tr th:only-of-type {\n",
       "        vertical-align: middle;\n",
       "    }\n",
       "\n",
       "    .dataframe tbody tr th {\n",
       "        vertical-align: top;\n",
       "    }\n",
       "\n",
       "    .dataframe thead th {\n",
       "        text-align: right;\n",
       "    }\n",
       "</style>\n",
       "<table border=\"1\" class=\"dataframe\">\n",
       "  <thead>\n",
       "    <tr style=\"text-align: right;\">\n",
       "      <th></th>\n",
       "      <th>D</th>\n",
       "      <th>E</th>\n",
       "    </tr>\n",
       "  </thead>\n",
       "  <tbody>\n",
       "    <tr>\n",
       "      <th>1</th>\n",
       "      <td>0.906049</td>\n",
       "      <td>0.227268</td>\n",
       "    </tr>\n",
       "    <tr>\n",
       "      <th>2</th>\n",
       "      <td>0.724874</td>\n",
       "      <td>0.141755</td>\n",
       "    </tr>\n",
       "  </tbody>\n",
       "</table>\n",
       "</div>"
      ],
      "text/plain": [
       "          D         E\n",
       "1  0.906049  0.227268\n",
       "2  0.724874  0.141755"
      ]
     },
     "execution_count": 35,
     "metadata": {},
     "output_type": "execute_result"
    }
   ],
   "source": [
    "newdf.iloc[[1,2],[3,4]]"
   ]
  },
  {
   "cell_type": "code",
   "execution_count": 36,
   "id": "0b640fdd",
   "metadata": {},
   "outputs": [
    {
     "data": {
      "text/html": [
       "<div>\n",
       "<style scoped>\n",
       "    .dataframe tbody tr th:only-of-type {\n",
       "        vertical-align: middle;\n",
       "    }\n",
       "\n",
       "    .dataframe tbody tr th {\n",
       "        vertical-align: top;\n",
       "    }\n",
       "\n",
       "    .dataframe thead th {\n",
       "        text-align: right;\n",
       "    }\n",
       "</style>\n",
       "<table border=\"1\" class=\"dataframe\">\n",
       "  <thead>\n",
       "    <tr style=\"text-align: right;\">\n",
       "      <th></th>\n",
       "      <th>A</th>\n",
       "      <th>B</th>\n",
       "      <th>C</th>\n",
       "      <th>D</th>\n",
       "      <th>E</th>\n",
       "    </tr>\n",
       "  </thead>\n",
       "  <tbody>\n",
       "    <tr>\n",
       "      <th>0</th>\n",
       "      <td>0.340000</td>\n",
       "      <td>0.321414</td>\n",
       "      <td>0.447885</td>\n",
       "      <td>0.800382</td>\n",
       "      <td>0.776157</td>\n",
       "    </tr>\n",
       "    <tr>\n",
       "      <th>1</th>\n",
       "      <td>0.605159</td>\n",
       "      <td>0.251722</td>\n",
       "      <td>0.876063</td>\n",
       "      <td>0.906049</td>\n",
       "      <td>0.227268</td>\n",
       "    </tr>\n",
       "    <tr>\n",
       "      <th>2</th>\n",
       "      <td>0.346432</td>\n",
       "      <td>0.260942</td>\n",
       "      <td>0.461695</td>\n",
       "      <td>0.724874</td>\n",
       "      <td>0.141755</td>\n",
       "    </tr>\n",
       "    <tr>\n",
       "      <th>3</th>\n",
       "      <td>0.319119</td>\n",
       "      <td>0.596981</td>\n",
       "      <td>0.382728</td>\n",
       "      <td>0.366957</td>\n",
       "      <td>0.934491</td>\n",
       "    </tr>\n",
       "    <tr>\n",
       "      <th>4</th>\n",
       "      <td>0.976809</td>\n",
       "      <td>0.706636</td>\n",
       "      <td>0.752684</td>\n",
       "      <td>0.986324</td>\n",
       "      <td>0.671085</td>\n",
       "    </tr>\n",
       "    <tr>\n",
       "      <th>...</th>\n",
       "      <td>...</td>\n",
       "      <td>...</td>\n",
       "      <td>...</td>\n",
       "      <td>...</td>\n",
       "      <td>...</td>\n",
       "    </tr>\n",
       "    <tr>\n",
       "      <th>329</th>\n",
       "      <td>0.225005</td>\n",
       "      <td>0.495566</td>\n",
       "      <td>0.687279</td>\n",
       "      <td>0.082345</td>\n",
       "      <td>0.048840</td>\n",
       "    </tr>\n",
       "    <tr>\n",
       "      <th>330</th>\n",
       "      <td>0.794263</td>\n",
       "      <td>0.340483</td>\n",
       "      <td>0.981171</td>\n",
       "      <td>0.168398</td>\n",
       "      <td>0.166115</td>\n",
       "    </tr>\n",
       "    <tr>\n",
       "      <th>331</th>\n",
       "      <td>0.357801</td>\n",
       "      <td>0.753625</td>\n",
       "      <td>0.028218</td>\n",
       "      <td>0.395173</td>\n",
       "      <td>0.635905</td>\n",
       "    </tr>\n",
       "    <tr>\n",
       "      <th>332</th>\n",
       "      <td>0.486229</td>\n",
       "      <td>0.939932</td>\n",
       "      <td>0.372109</td>\n",
       "      <td>0.840467</td>\n",
       "      <td>0.310529</td>\n",
       "    </tr>\n",
       "    <tr>\n",
       "      <th>333</th>\n",
       "      <td>0.622005</td>\n",
       "      <td>0.042342</td>\n",
       "      <td>0.366383</td>\n",
       "      <td>0.649594</td>\n",
       "      <td>0.020173</td>\n",
       "    </tr>\n",
       "  </tbody>\n",
       "</table>\n",
       "<p>334 rows × 5 columns</p>\n",
       "</div>"
      ],
      "text/plain": [
       "            A         B         C         D         E\n",
       "0    0.340000  0.321414  0.447885  0.800382  0.776157\n",
       "1    0.605159  0.251722  0.876063  0.906049  0.227268\n",
       "2    0.346432  0.260942  0.461695  0.724874  0.141755\n",
       "3    0.319119  0.596981  0.382728  0.366957  0.934491\n",
       "4    0.976809  0.706636  0.752684  0.986324  0.671085\n",
       "..        ...       ...       ...       ...       ...\n",
       "329  0.225005  0.495566  0.687279  0.082345  0.048840\n",
       "330  0.794263  0.340483  0.981171  0.168398  0.166115\n",
       "331  0.357801  0.753625  0.028218  0.395173  0.635905\n",
       "332  0.486229  0.939932  0.372109  0.840467  0.310529\n",
       "333  0.622005  0.042342  0.366383  0.649594  0.020173\n",
       "\n",
       "[334 rows x 5 columns]"
      ]
     },
     "execution_count": 36,
     "metadata": {},
     "output_type": "execute_result"
    }
   ],
   "source": [
    "newdf\n"
   ]
  },
  {
   "cell_type": "code",
   "execution_count": 37,
   "id": "9feea81b",
   "metadata": {},
   "outputs": [],
   "source": [
    "newdf.reset_index(drop=True,inplace=True)"
   ]
  },
  {
   "cell_type": "code",
   "execution_count": 38,
   "id": "8296aa93",
   "metadata": {},
   "outputs": [
    {
     "data": {
      "text/html": [
       "<div>\n",
       "<style scoped>\n",
       "    .dataframe tbody tr th:only-of-type {\n",
       "        vertical-align: middle;\n",
       "    }\n",
       "\n",
       "    .dataframe tbody tr th {\n",
       "        vertical-align: top;\n",
       "    }\n",
       "\n",
       "    .dataframe thead th {\n",
       "        text-align: right;\n",
       "    }\n",
       "</style>\n",
       "<table border=\"1\" class=\"dataframe\">\n",
       "  <thead>\n",
       "    <tr style=\"text-align: right;\">\n",
       "      <th></th>\n",
       "      <th>A</th>\n",
       "      <th>B</th>\n",
       "      <th>C</th>\n",
       "      <th>D</th>\n",
       "      <th>E</th>\n",
       "    </tr>\n",
       "  </thead>\n",
       "  <tbody>\n",
       "    <tr>\n",
       "      <th>0</th>\n",
       "      <td>0.340000</td>\n",
       "      <td>0.321414</td>\n",
       "      <td>0.447885</td>\n",
       "      <td>0.800382</td>\n",
       "      <td>0.776157</td>\n",
       "    </tr>\n",
       "    <tr>\n",
       "      <th>1</th>\n",
       "      <td>0.605159</td>\n",
       "      <td>0.251722</td>\n",
       "      <td>0.876063</td>\n",
       "      <td>0.906049</td>\n",
       "      <td>0.227268</td>\n",
       "    </tr>\n",
       "    <tr>\n",
       "      <th>2</th>\n",
       "      <td>0.346432</td>\n",
       "      <td>0.260942</td>\n",
       "      <td>0.461695</td>\n",
       "      <td>0.724874</td>\n",
       "      <td>0.141755</td>\n",
       "    </tr>\n",
       "    <tr>\n",
       "      <th>3</th>\n",
       "      <td>0.319119</td>\n",
       "      <td>0.596981</td>\n",
       "      <td>0.382728</td>\n",
       "      <td>0.366957</td>\n",
       "      <td>0.934491</td>\n",
       "    </tr>\n",
       "    <tr>\n",
       "      <th>4</th>\n",
       "      <td>0.976809</td>\n",
       "      <td>0.706636</td>\n",
       "      <td>0.752684</td>\n",
       "      <td>0.986324</td>\n",
       "      <td>0.671085</td>\n",
       "    </tr>\n",
       "    <tr>\n",
       "      <th>...</th>\n",
       "      <td>...</td>\n",
       "      <td>...</td>\n",
       "      <td>...</td>\n",
       "      <td>...</td>\n",
       "      <td>...</td>\n",
       "    </tr>\n",
       "    <tr>\n",
       "      <th>329</th>\n",
       "      <td>0.225005</td>\n",
       "      <td>0.495566</td>\n",
       "      <td>0.687279</td>\n",
       "      <td>0.082345</td>\n",
       "      <td>0.048840</td>\n",
       "    </tr>\n",
       "    <tr>\n",
       "      <th>330</th>\n",
       "      <td>0.794263</td>\n",
       "      <td>0.340483</td>\n",
       "      <td>0.981171</td>\n",
       "      <td>0.168398</td>\n",
       "      <td>0.166115</td>\n",
       "    </tr>\n",
       "    <tr>\n",
       "      <th>331</th>\n",
       "      <td>0.357801</td>\n",
       "      <td>0.753625</td>\n",
       "      <td>0.028218</td>\n",
       "      <td>0.395173</td>\n",
       "      <td>0.635905</td>\n",
       "    </tr>\n",
       "    <tr>\n",
       "      <th>332</th>\n",
       "      <td>0.486229</td>\n",
       "      <td>0.939932</td>\n",
       "      <td>0.372109</td>\n",
       "      <td>0.840467</td>\n",
       "      <td>0.310529</td>\n",
       "    </tr>\n",
       "    <tr>\n",
       "      <th>333</th>\n",
       "      <td>0.622005</td>\n",
       "      <td>0.042342</td>\n",
       "      <td>0.366383</td>\n",
       "      <td>0.649594</td>\n",
       "      <td>0.020173</td>\n",
       "    </tr>\n",
       "  </tbody>\n",
       "</table>\n",
       "<p>334 rows × 5 columns</p>\n",
       "</div>"
      ],
      "text/plain": [
       "            A         B         C         D         E\n",
       "0    0.340000  0.321414  0.447885  0.800382  0.776157\n",
       "1    0.605159  0.251722  0.876063  0.906049  0.227268\n",
       "2    0.346432  0.260942  0.461695  0.724874  0.141755\n",
       "3    0.319119  0.596981  0.382728  0.366957  0.934491\n",
       "4    0.976809  0.706636  0.752684  0.986324  0.671085\n",
       "..        ...       ...       ...       ...       ...\n",
       "329  0.225005  0.495566  0.687279  0.082345  0.048840\n",
       "330  0.794263  0.340483  0.981171  0.168398  0.166115\n",
       "331  0.357801  0.753625  0.028218  0.395173  0.635905\n",
       "332  0.486229  0.939932  0.372109  0.840467  0.310529\n",
       "333  0.622005  0.042342  0.366383  0.649594  0.020173\n",
       "\n",
       "[334 rows x 5 columns]"
      ]
     },
     "execution_count": 38,
     "metadata": {},
     "output_type": "execute_result"
    }
   ],
   "source": [
    "newdf\n"
   ]
  },
  {
   "cell_type": "code",
   "execution_count": null,
   "id": "131f4334",
   "metadata": {},
   "outputs": [],
   "source": []
  },
  {
   "cell_type": "code",
   "execution_count": 39,
   "id": "df9aa0a8",
   "metadata": {},
   "outputs": [
    {
     "data": {
      "text/html": [
       "<div>\n",
       "<style scoped>\n",
       "    .dataframe tbody tr th:only-of-type {\n",
       "        vertical-align: middle;\n",
       "    }\n",
       "\n",
       "    .dataframe tbody tr th {\n",
       "        vertical-align: top;\n",
       "    }\n",
       "\n",
       "    .dataframe thead th {\n",
       "        text-align: right;\n",
       "    }\n",
       "</style>\n",
       "<table border=\"1\" class=\"dataframe\">\n",
       "  <thead>\n",
       "    <tr style=\"text-align: right;\">\n",
       "      <th></th>\n",
       "      <th>Id</th>\n",
       "      <th>SepalLengthCm</th>\n",
       "      <th>SepalWidthCm</th>\n",
       "      <th>PetalLengthCm</th>\n",
       "      <th>PetalWidthCm</th>\n",
       "      <th>Species</th>\n",
       "    </tr>\n",
       "  </thead>\n",
       "  <tbody>\n",
       "    <tr>\n",
       "      <th>0</th>\n",
       "      <td>1</td>\n",
       "      <td>5.1</td>\n",
       "      <td>3.5</td>\n",
       "      <td>1.4</td>\n",
       "      <td>0.2</td>\n",
       "      <td>Iris-setosa</td>\n",
       "    </tr>\n",
       "    <tr>\n",
       "      <th>1</th>\n",
       "      <td>2</td>\n",
       "      <td>4.9</td>\n",
       "      <td>3.0</td>\n",
       "      <td>1.4</td>\n",
       "      <td>0.2</td>\n",
       "      <td>Iris-setosa</td>\n",
       "    </tr>\n",
       "    <tr>\n",
       "      <th>2</th>\n",
       "      <td>3</td>\n",
       "      <td>4.7</td>\n",
       "      <td>3.2</td>\n",
       "      <td>1.3</td>\n",
       "      <td>0.2</td>\n",
       "      <td>Iris-setosa</td>\n",
       "    </tr>\n",
       "    <tr>\n",
       "      <th>3</th>\n",
       "      <td>4</td>\n",
       "      <td>4.6</td>\n",
       "      <td>3.1</td>\n",
       "      <td>1.5</td>\n",
       "      <td>0.2</td>\n",
       "      <td>Iris-setosa</td>\n",
       "    </tr>\n",
       "    <tr>\n",
       "      <th>4</th>\n",
       "      <td>5</td>\n",
       "      <td>5.0</td>\n",
       "      <td>3.6</td>\n",
       "      <td>1.4</td>\n",
       "      <td>0.2</td>\n",
       "      <td>Iris-setosa</td>\n",
       "    </tr>\n",
       "    <tr>\n",
       "      <th>5</th>\n",
       "      <td>6</td>\n",
       "      <td>5.4</td>\n",
       "      <td>3.9</td>\n",
       "      <td>1.7</td>\n",
       "      <td>0.4</td>\n",
       "      <td>Iris-setosa</td>\n",
       "    </tr>\n",
       "    <tr>\n",
       "      <th>6</th>\n",
       "      <td>7</td>\n",
       "      <td>4.6</td>\n",
       "      <td>3.4</td>\n",
       "      <td>1.4</td>\n",
       "      <td>0.3</td>\n",
       "      <td>Iris-setosa</td>\n",
       "    </tr>\n",
       "    <tr>\n",
       "      <th>8</th>\n",
       "      <td>9</td>\n",
       "      <td>4.4</td>\n",
       "      <td>2.9</td>\n",
       "      <td>1.4</td>\n",
       "      <td>0.2</td>\n",
       "      <td>Iris-setosa</td>\n",
       "    </tr>\n",
       "    <tr>\n",
       "      <th>10</th>\n",
       "      <td>11</td>\n",
       "      <td>5.4</td>\n",
       "      <td>3.7</td>\n",
       "      <td>1.5</td>\n",
       "      <td>0.2</td>\n",
       "      <td>Iris-setosa</td>\n",
       "    </tr>\n",
       "    <tr>\n",
       "      <th>14</th>\n",
       "      <td>15</td>\n",
       "      <td>5.8</td>\n",
       "      <td>4.0</td>\n",
       "      <td>1.2</td>\n",
       "      <td>0.2</td>\n",
       "      <td>Iris-setosa</td>\n",
       "    </tr>\n",
       "    <tr>\n",
       "      <th>15</th>\n",
       "      <td>16</td>\n",
       "      <td>5.7</td>\n",
       "      <td>4.4</td>\n",
       "      <td>1.5</td>\n",
       "      <td>0.4</td>\n",
       "      <td>Iris-setosa</td>\n",
       "    </tr>\n",
       "    <tr>\n",
       "      <th>18</th>\n",
       "      <td>19</td>\n",
       "      <td>5.7</td>\n",
       "      <td>3.8</td>\n",
       "      <td>1.7</td>\n",
       "      <td>0.3</td>\n",
       "      <td>Iris-setosa</td>\n",
       "    </tr>\n",
       "    <tr>\n",
       "      <th>23</th>\n",
       "      <td>24</td>\n",
       "      <td>5.1</td>\n",
       "      <td>3.3</td>\n",
       "      <td>1.7</td>\n",
       "      <td>0.5</td>\n",
       "      <td>Iris-setosa</td>\n",
       "    </tr>\n",
       "    <tr>\n",
       "      <th>32</th>\n",
       "      <td>33</td>\n",
       "      <td>5.2</td>\n",
       "      <td>4.1</td>\n",
       "      <td>1.5</td>\n",
       "      <td>0.1</td>\n",
       "      <td>Iris-setosa</td>\n",
       "    </tr>\n",
       "    <tr>\n",
       "      <th>33</th>\n",
       "      <td>34</td>\n",
       "      <td>5.5</td>\n",
       "      <td>4.2</td>\n",
       "      <td>1.4</td>\n",
       "      <td>0.2</td>\n",
       "      <td>Iris-setosa</td>\n",
       "    </tr>\n",
       "    <tr>\n",
       "      <th>41</th>\n",
       "      <td>42</td>\n",
       "      <td>4.5</td>\n",
       "      <td>2.3</td>\n",
       "      <td>1.3</td>\n",
       "      <td>0.3</td>\n",
       "      <td>Iris-setosa</td>\n",
       "    </tr>\n",
       "    <tr>\n",
       "      <th>54</th>\n",
       "      <td>55</td>\n",
       "      <td>6.5</td>\n",
       "      <td>2.8</td>\n",
       "      <td>4.6</td>\n",
       "      <td>1.5</td>\n",
       "      <td>Iris-versicolor</td>\n",
       "    </tr>\n",
       "    <tr>\n",
       "      <th>57</th>\n",
       "      <td>58</td>\n",
       "      <td>4.9</td>\n",
       "      <td>2.4</td>\n",
       "      <td>3.3</td>\n",
       "      <td>1.0</td>\n",
       "      <td>Iris-versicolor</td>\n",
       "    </tr>\n",
       "    <tr>\n",
       "      <th>59</th>\n",
       "      <td>60</td>\n",
       "      <td>5.2</td>\n",
       "      <td>2.7</td>\n",
       "      <td>3.9</td>\n",
       "      <td>1.4</td>\n",
       "      <td>Iris-versicolor</td>\n",
       "    </tr>\n",
       "    <tr>\n",
       "      <th>60</th>\n",
       "      <td>61</td>\n",
       "      <td>5.0</td>\n",
       "      <td>2.0</td>\n",
       "      <td>3.5</td>\n",
       "      <td>1.0</td>\n",
       "      <td>Iris-versicolor</td>\n",
       "    </tr>\n",
       "    <tr>\n",
       "      <th>62</th>\n",
       "      <td>63</td>\n",
       "      <td>6.0</td>\n",
       "      <td>2.2</td>\n",
       "      <td>4.0</td>\n",
       "      <td>1.0</td>\n",
       "      <td>Iris-versicolor</td>\n",
       "    </tr>\n",
       "    <tr>\n",
       "      <th>69</th>\n",
       "      <td>70</td>\n",
       "      <td>5.6</td>\n",
       "      <td>2.5</td>\n",
       "      <td>3.9</td>\n",
       "      <td>1.1</td>\n",
       "      <td>Iris-versicolor</td>\n",
       "    </tr>\n",
       "    <tr>\n",
       "      <th>79</th>\n",
       "      <td>80</td>\n",
       "      <td>5.7</td>\n",
       "      <td>2.6</td>\n",
       "      <td>3.5</td>\n",
       "      <td>1.0</td>\n",
       "      <td>Iris-versicolor</td>\n",
       "    </tr>\n",
       "  </tbody>\n",
       "</table>\n",
       "</div>"
      ],
      "text/plain": [
       "    Id  SepalLengthCm  SepalWidthCm  PetalLengthCm  PetalWidthCm  \\\n",
       "0    1            5.1           3.5            1.4           0.2   \n",
       "1    2            4.9           3.0            1.4           0.2   \n",
       "2    3            4.7           3.2            1.3           0.2   \n",
       "3    4            4.6           3.1            1.5           0.2   \n",
       "4    5            5.0           3.6            1.4           0.2   \n",
       "5    6            5.4           3.9            1.7           0.4   \n",
       "6    7            4.6           3.4            1.4           0.3   \n",
       "8    9            4.4           2.9            1.4           0.2   \n",
       "10  11            5.4           3.7            1.5           0.2   \n",
       "14  15            5.8           4.0            1.2           0.2   \n",
       "15  16            5.7           4.4            1.5           0.4   \n",
       "18  19            5.7           3.8            1.7           0.3   \n",
       "23  24            5.1           3.3            1.7           0.5   \n",
       "32  33            5.2           4.1            1.5           0.1   \n",
       "33  34            5.5           4.2            1.4           0.2   \n",
       "41  42            4.5           2.3            1.3           0.3   \n",
       "54  55            6.5           2.8            4.6           1.5   \n",
       "57  58            4.9           2.4            3.3           1.0   \n",
       "59  60            5.2           2.7            3.9           1.4   \n",
       "60  61            5.0           2.0            3.5           1.0   \n",
       "62  63            6.0           2.2            4.0           1.0   \n",
       "69  70            5.6           2.5            3.9           1.1   \n",
       "79  80            5.7           2.6            3.5           1.0   \n",
       "\n",
       "            Species  \n",
       "0       Iris-setosa  \n",
       "1       Iris-setosa  \n",
       "2       Iris-setosa  \n",
       "3       Iris-setosa  \n",
       "4       Iris-setosa  \n",
       "5       Iris-setosa  \n",
       "6       Iris-setosa  \n",
       "8       Iris-setosa  \n",
       "10      Iris-setosa  \n",
       "14      Iris-setosa  \n",
       "15      Iris-setosa  \n",
       "18      Iris-setosa  \n",
       "23      Iris-setosa  \n",
       "32      Iris-setosa  \n",
       "33      Iris-setosa  \n",
       "41      Iris-setosa  \n",
       "54  Iris-versicolor  \n",
       "57  Iris-versicolor  \n",
       "59  Iris-versicolor  \n",
       "60  Iris-versicolor  \n",
       "62  Iris-versicolor  \n",
       "69  Iris-versicolor  \n",
       "79  Iris-versicolor  "
      ]
     },
     "execution_count": 39,
     "metadata": {},
     "output_type": "execute_result"
    }
   ],
   "source": [
    "myData.drop_duplicates(subset='SepalWidthCm')"
   ]
  },
  {
   "cell_type": "code",
   "execution_count": 40,
   "id": "57b25c49",
   "metadata": {},
   "outputs": [],
   "source": [
    "df = pd.DataFrame({\n",
    "    'brand': ['Yum Yum', 'Yum Yum', 'Indomie', 'Indomie', 'Indomie'],\n",
    "    'style': ['cup', 'cup', 'cup', 'pack', 'pack'],\n",
    "    'rating': [4, 4, 3.5, 15, 5]\n",
    "})"
   ]
  },
  {
   "cell_type": "code",
   "execution_count": 41,
   "id": "3df91c11",
   "metadata": {},
   "outputs": [
    {
     "data": {
      "text/html": [
       "<div>\n",
       "<style scoped>\n",
       "    .dataframe tbody tr th:only-of-type {\n",
       "        vertical-align: middle;\n",
       "    }\n",
       "\n",
       "    .dataframe tbody tr th {\n",
       "        vertical-align: top;\n",
       "    }\n",
       "\n",
       "    .dataframe thead th {\n",
       "        text-align: right;\n",
       "    }\n",
       "</style>\n",
       "<table border=\"1\" class=\"dataframe\">\n",
       "  <thead>\n",
       "    <tr style=\"text-align: right;\">\n",
       "      <th></th>\n",
       "      <th>brand</th>\n",
       "      <th>style</th>\n",
       "      <th>rating</th>\n",
       "    </tr>\n",
       "  </thead>\n",
       "  <tbody>\n",
       "    <tr>\n",
       "      <th>0</th>\n",
       "      <td>Yum Yum</td>\n",
       "      <td>cup</td>\n",
       "      <td>4.0</td>\n",
       "    </tr>\n",
       "    <tr>\n",
       "      <th>1</th>\n",
       "      <td>Yum Yum</td>\n",
       "      <td>cup</td>\n",
       "      <td>4.0</td>\n",
       "    </tr>\n",
       "    <tr>\n",
       "      <th>2</th>\n",
       "      <td>Indomie</td>\n",
       "      <td>cup</td>\n",
       "      <td>3.5</td>\n",
       "    </tr>\n",
       "    <tr>\n",
       "      <th>3</th>\n",
       "      <td>Indomie</td>\n",
       "      <td>pack</td>\n",
       "      <td>15.0</td>\n",
       "    </tr>\n",
       "    <tr>\n",
       "      <th>4</th>\n",
       "      <td>Indomie</td>\n",
       "      <td>pack</td>\n",
       "      <td>5.0</td>\n",
       "    </tr>\n",
       "  </tbody>\n",
       "</table>\n",
       "</div>"
      ],
      "text/plain": [
       "     brand style  rating\n",
       "0  Yum Yum   cup     4.0\n",
       "1  Yum Yum   cup     4.0\n",
       "2  Indomie   cup     3.5\n",
       "3  Indomie  pack    15.0\n",
       "4  Indomie  pack     5.0"
      ]
     },
     "execution_count": 41,
     "metadata": {},
     "output_type": "execute_result"
    }
   ],
   "source": [
    "df"
   ]
  },
  {
   "cell_type": "code",
   "execution_count": 42,
   "id": "f9f96ac7",
   "metadata": {},
   "outputs": [
    {
     "data": {
      "text/html": [
       "<div>\n",
       "<style scoped>\n",
       "    .dataframe tbody tr th:only-of-type {\n",
       "        vertical-align: middle;\n",
       "    }\n",
       "\n",
       "    .dataframe tbody tr th {\n",
       "        vertical-align: top;\n",
       "    }\n",
       "\n",
       "    .dataframe thead th {\n",
       "        text-align: right;\n",
       "    }\n",
       "</style>\n",
       "<table border=\"1\" class=\"dataframe\">\n",
       "  <thead>\n",
       "    <tr style=\"text-align: right;\">\n",
       "      <th></th>\n",
       "      <th>brand</th>\n",
       "      <th>style</th>\n",
       "      <th>rating</th>\n",
       "    </tr>\n",
       "  </thead>\n",
       "  <tbody>\n",
       "    <tr>\n",
       "      <th>1</th>\n",
       "      <td>Yum Yum</td>\n",
       "      <td>cup</td>\n",
       "      <td>4.0</td>\n",
       "    </tr>\n",
       "    <tr>\n",
       "      <th>4</th>\n",
       "      <td>Indomie</td>\n",
       "      <td>pack</td>\n",
       "      <td>5.0</td>\n",
       "    </tr>\n",
       "  </tbody>\n",
       "</table>\n",
       "</div>"
      ],
      "text/plain": [
       "     brand style  rating\n",
       "1  Yum Yum   cup     4.0\n",
       "4  Indomie  pack     5.0"
      ]
     },
     "execution_count": 42,
     "metadata": {},
     "output_type": "execute_result"
    }
   ],
   "source": [
    "df.drop_duplicates(subset=['brand'],keep='last')"
   ]
  },
  {
   "cell_type": "code",
   "execution_count": 43,
   "id": "72f0f8cc",
   "metadata": {},
   "outputs": [
    {
     "data": {
      "text/plain": [
       "Indomie    3\n",
       "Yum Yum    2\n",
       "Name: brand, dtype: int64"
      ]
     },
     "execution_count": 43,
     "metadata": {},
     "output_type": "execute_result"
    }
   ],
   "source": [
    "df['brand'].value_counts()"
   ]
  },
  {
   "cell_type": "code",
   "execution_count": 44,
   "id": "838ba427",
   "metadata": {},
   "outputs": [],
   "source": [
    "Sheet=pd.read_excel('sheet.xlsx')"
   ]
  },
  {
   "cell_type": "code",
   "execution_count": null,
   "id": "caa33f98",
   "metadata": {},
   "outputs": [],
   "source": []
  },
  {
   "cell_type": "markdown",
   "id": "c3a0e7db",
   "metadata": {},
   "source": [
    "# numpy\n",
    "* provides effcient storage\n",
    "* fast\n",
    "* ez to learn\n",
    "* uses relatively less memory to store data\n"
   ]
  },
  {
   "cell_type": "code",
   "execution_count": 52,
   "id": "eb84bcf3",
   "metadata": {},
   "outputs": [],
   "source": [
    "myArr = np.array([3,6,7,1,5],np.int64)"
   ]
  },
  {
   "cell_type": "code",
   "execution_count": 46,
   "id": "7bf3c487",
   "metadata": {},
   "outputs": [
    {
     "data": {
      "text/plain": [
       "array([3, 6, 7, 1, 5])"
      ]
     },
     "execution_count": 46,
     "metadata": {},
     "output_type": "execute_result"
    }
   ],
   "source": [
    "myArr"
   ]
  },
  {
   "cell_type": "code",
   "execution_count": 47,
   "id": "aeeb0287",
   "metadata": {},
   "outputs": [
    {
     "data": {
      "text/plain": [
       "7"
      ]
     },
     "execution_count": 47,
     "metadata": {},
     "output_type": "execute_result"
    }
   ],
   "source": [
    "myArr[2]"
   ]
  },
  {
   "cell_type": "code",
   "execution_count": 55,
   "id": "09805c3d",
   "metadata": {},
   "outputs": [
    {
     "data": {
      "text/plain": [
       "(5,)"
      ]
     },
     "execution_count": 55,
     "metadata": {},
     "output_type": "execute_result"
    }
   ],
   "source": [
    "myArr.shape"
   ]
  },
  {
   "cell_type": "code",
   "execution_count": 56,
   "id": "4022c795",
   "metadata": {},
   "outputs": [
    {
     "data": {
      "text/plain": [
       "dtype('int64')"
      ]
     },
     "execution_count": 56,
     "metadata": {},
     "output_type": "execute_result"
    }
   ],
   "source": [
    "myArr.dtype"
   ]
  },
  {
   "cell_type": "code",
   "execution_count": 57,
   "id": "aa9f9ea7",
   "metadata": {},
   "outputs": [],
   "source": [
    "myArr[1]=77"
   ]
  },
  {
   "cell_type": "code",
   "execution_count": 58,
   "id": "ee1b337e",
   "metadata": {},
   "outputs": [
    {
     "data": {
      "text/plain": [
       "array([ 3, 77,  7,  1,  5], dtype=int64)"
      ]
     },
     "execution_count": 58,
     "metadata": {},
     "output_type": "execute_result"
    }
   ],
   "source": [
    "myArr"
   ]
  },
  {
   "cell_type": "markdown",
   "id": "ec340690",
   "metadata": {},
   "source": [
    "**creating array: conversion from other python structures**"
   ]
  },
  {
   "cell_type": "code",
   "execution_count": 62,
   "id": "c60f3991",
   "metadata": {},
   "outputs": [],
   "source": [
    "listArray = np.array([[1,2,3],[4,5,6],[7,8,9]])"
   ]
  },
  {
   "cell_type": "code",
   "execution_count": 63,
   "id": "08d90a29",
   "metadata": {},
   "outputs": [
    {
     "data": {
      "text/plain": [
       "array([[1, 2, 3],\n",
       "       [4, 5, 6],\n",
       "       [7, 8, 9]])"
      ]
     },
     "execution_count": 63,
     "metadata": {},
     "output_type": "execute_result"
    }
   ],
   "source": [
    "listArray"
   ]
  },
  {
   "cell_type": "code",
   "execution_count": 64,
   "id": "f21609c5",
   "metadata": {},
   "outputs": [
    {
     "data": {
      "text/plain": [
       "(3, 3)"
      ]
     },
     "execution_count": 64,
     "metadata": {},
     "output_type": "execute_result"
    }
   ],
   "source": [
    "listArray.shape"
   ]
  },
  {
   "cell_type": "code",
   "execution_count": 66,
   "id": "9ea94478",
   "metadata": {},
   "outputs": [
    {
     "data": {
      "text/plain": [
       "9"
      ]
     },
     "execution_count": 66,
     "metadata": {},
     "output_type": "execute_result"
    }
   ],
   "source": [
    "listArray.size"
   ]
  },
  {
   "cell_type": "code",
   "execution_count": 65,
   "id": "234ef684",
   "metadata": {},
   "outputs": [
    {
     "data": {
      "text/plain": [
       "array({33, 11, 22}, dtype=object)"
      ]
     },
     "execution_count": 65,
     "metadata": {},
     "output_type": "execute_result"
    }
   ],
   "source": [
    "np.array({11,22,33}, dtype=object)"
   ]
  },
  {
   "cell_type": "markdown",
   "id": "e58aa0b6",
   "metadata": {},
   "source": [
    "**creating array: Intrinsic NumPy array creation functions**"
   ]
  },
  {
   "cell_type": "code",
   "execution_count": 67,
   "id": "f17732e7",
   "metadata": {},
   "outputs": [],
   "source": [
    "zeros = np.zeros((2,5))"
   ]
  },
  {
   "cell_type": "code",
   "execution_count": 68,
   "id": "7df7b6c8",
   "metadata": {},
   "outputs": [
    {
     "data": {
      "text/plain": [
       "array([[0., 0., 0., 0., 0.],\n",
       "       [0., 0., 0., 0., 0.]])"
      ]
     },
     "execution_count": 68,
     "metadata": {},
     "output_type": "execute_result"
    }
   ],
   "source": [
    "zeros"
   ]
  },
  {
   "cell_type": "code",
   "execution_count": 69,
   "id": "5e13a476",
   "metadata": {},
   "outputs": [
    {
     "data": {
      "text/plain": [
       "dtype('float64')"
      ]
     },
     "execution_count": 69,
     "metadata": {},
     "output_type": "execute_result"
    }
   ],
   "source": [
    "zeros.dtype"
   ]
  },
  {
   "cell_type": "code",
   "execution_count": 70,
   "id": "31e2e59e",
   "metadata": {},
   "outputs": [
    {
     "data": {
      "text/plain": [
       "10"
      ]
     },
     "execution_count": 70,
     "metadata": {},
     "output_type": "execute_result"
    }
   ],
   "source": [
    "zeros.size"
   ]
  },
  {
   "cell_type": "code",
   "execution_count": 71,
   "id": "255d2cf5",
   "metadata": {},
   "outputs": [],
   "source": [
    "rng = np.arange(15)"
   ]
  },
  {
   "cell_type": "code",
   "execution_count": 72,
   "id": "f246841e",
   "metadata": {},
   "outputs": [
    {
     "data": {
      "text/plain": [
       "array([ 0,  1,  2,  3,  4,  5,  6,  7,  8,  9, 10, 11, 12, 13, 14])"
      ]
     },
     "execution_count": 72,
     "metadata": {},
     "output_type": "execute_result"
    }
   ],
   "source": [
    "rng"
   ]
  },
  {
   "cell_type": "code",
   "execution_count": 73,
   "id": "c033a3cb",
   "metadata": {},
   "outputs": [
    {
     "data": {
      "text/plain": [
       "(15,)"
      ]
     },
     "execution_count": 73,
     "metadata": {},
     "output_type": "execute_result"
    }
   ],
   "source": [
    "rng.shape"
   ]
  },
  {
   "cell_type": "code",
   "execution_count": 75,
   "id": "644d103b",
   "metadata": {},
   "outputs": [],
   "source": [
    "  lspace= np.linspace(1,10,5)"
   ]
  },
  {
   "cell_type": "code",
   "execution_count": 76,
   "id": "e6b9e3cc",
   "metadata": {},
   "outputs": [
    {
     "data": {
      "text/plain": [
       "array([ 1.  ,  3.25,  5.5 ,  7.75, 10.  ])"
      ]
     },
     "execution_count": 76,
     "metadata": {},
     "output_type": "execute_result"
    }
   ],
   "source": [
    "lspace"
   ]
  },
  {
   "cell_type": "code",
   "execution_count": 78,
   "id": "5650f765",
   "metadata": {},
   "outputs": [],
   "source": [
    "emp = np.empty((3,3))"
   ]
  },
  {
   "cell_type": "markdown",
   "id": "ebd9bcaa",
   "metadata": {},
   "source": [
    "emp"
   ]
  },
  {
   "cell_type": "code",
   "execution_count": 79,
   "id": "9ad109dd",
   "metadata": {},
   "outputs": [],
   "source": [
    "emplike = np.empty_like(lspace)"
   ]
  },
  {
   "cell_type": "code",
   "execution_count": 80,
   "id": "053b8fbf",
   "metadata": {},
   "outputs": [
    {
     "data": {
      "text/plain": [
       "array([ 1.  ,  3.25,  5.5 ,  7.75, 10.  ])"
      ]
     },
     "execution_count": 80,
     "metadata": {},
     "output_type": "execute_result"
    }
   ],
   "source": [
    "emplike"
   ]
  },
  {
   "cell_type": "code",
   "execution_count": 81,
   "id": "5ee5238f",
   "metadata": {},
   "outputs": [],
   "source": [
    "ide = np.identity(4)"
   ]
  },
  {
   "cell_type": "code",
   "execution_count": 82,
   "id": "6b971210",
   "metadata": {},
   "outputs": [
    {
     "data": {
      "text/plain": [
       "array([[1., 0., 0., 0.],\n",
       "       [0., 1., 0., 0.],\n",
       "       [0., 0., 1., 0.],\n",
       "       [0., 0., 0., 1.]])"
      ]
     },
     "execution_count": 82,
     "metadata": {},
     "output_type": "execute_result"
    }
   ],
   "source": [
    "ide"
   ]
  },
  {
   "cell_type": "code",
   "execution_count": 83,
   "id": "997edd97",
   "metadata": {},
   "outputs": [
    {
     "data": {
      "text/plain": [
       "(4, 4)"
      ]
     },
     "execution_count": 83,
     "metadata": {},
     "output_type": "execute_result"
    }
   ],
   "source": [
    "ide.shape"
   ]
  },
  {
   "cell_type": "code",
   "execution_count": 84,
   "id": "77090ff5",
   "metadata": {},
   "outputs": [
    {
     "data": {
      "text/plain": [
       "16"
      ]
     },
     "execution_count": 84,
     "metadata": {},
     "output_type": "execute_result"
    }
   ],
   "source": [
    "ide.size"
   ]
  },
  {
   "cell_type": "code",
   "execution_count": 85,
   "id": "cba5247c",
   "metadata": {},
   "outputs": [],
   "source": [
    " rspArray = np.arange(15)"
   ]
  },
  {
   "cell_type": "code",
   "execution_count": 86,
   "id": "c289597e",
   "metadata": {},
   "outputs": [
    {
     "data": {
      "text/plain": [
       "array([ 0,  1,  2,  3,  4,  5,  6,  7,  8,  9, 10, 11, 12, 13, 14])"
      ]
     },
     "execution_count": 86,
     "metadata": {},
     "output_type": "execute_result"
    }
   ],
   "source": [
    "rspArray"
   ]
  },
  {
   "cell_type": "code",
   "execution_count": 88,
   "id": "21a64c56",
   "metadata": {},
   "outputs": [],
   "source": [
    "rsp = rspArray.reshape(3,5)"
   ]
  },
  {
   "cell_type": "code",
   "execution_count": 89,
   "id": "d0987c1f",
   "metadata": {},
   "outputs": [
    {
     "data": {
      "text/plain": [
       "array([[ 0,  1,  2,  3,  4],\n",
       "       [ 5,  6,  7,  8,  9],\n",
       "       [10, 11, 12, 13, 14]])"
      ]
     },
     "execution_count": 89,
     "metadata": {},
     "output_type": "execute_result"
    }
   ],
   "source": [
    "rsp"
   ]
  },
  {
   "cell_type": "code",
   "execution_count": 92,
   "id": "e9ab0f31",
   "metadata": {},
   "outputs": [
    {
     "data": {
      "text/plain": [
       "(3, 5)"
      ]
     },
     "execution_count": 92,
     "metadata": {},
     "output_type": "execute_result"
    }
   ],
   "source": [
    "rsp.shape"
   ]
  },
  {
   "cell_type": "code",
   "execution_count": 90,
   "id": "7a68e119",
   "metadata": {},
   "outputs": [],
   "source": [
    "rvl = rsp.ravel()"
   ]
  },
  {
   "cell_type": "code",
   "execution_count": 91,
   "id": "1c410f37",
   "metadata": {},
   "outputs": [
    {
     "data": {
      "text/plain": [
       "array([ 0,  1,  2,  3,  4,  5,  6,  7,  8,  9, 10, 11, 12, 13, 14])"
      ]
     },
     "execution_count": 91,
     "metadata": {},
     "output_type": "execute_result"
    }
   ],
   "source": [
    "rvl"
   ]
  },
  {
   "cell_type": "code",
   "execution_count": 93,
   "id": "3962ba92",
   "metadata": {},
   "outputs": [
    {
     "data": {
      "text/plain": [
       "(15,)"
      ]
     },
     "execution_count": 93,
     "metadata": {},
     "output_type": "execute_result"
    }
   ],
   "source": [
    "rvl.shape"
   ]
  },
  {
   "cell_type": "code",
   "execution_count": 94,
   "id": "c0522491",
   "metadata": {},
   "outputs": [],
   "source": [
    "arrey = np.array([[1,2,3],[4,5,6],[7,8,9]])"
   ]
  },
  {
   "cell_type": "code",
   "execution_count": 95,
   "id": "99830096",
   "metadata": {},
   "outputs": [
    {
     "data": {
      "text/plain": [
       "(3, 3)"
      ]
     },
     "execution_count": 95,
     "metadata": {},
     "output_type": "execute_result"
    }
   ],
   "source": [
    "arrey.shape"
   ]
  },
  {
   "cell_type": "code",
   "execution_count": 98,
   "id": "ecc0f9cf",
   "metadata": {},
   "outputs": [],
   "source": [
    "sum1=arrey.sum(axis=0)"
   ]
  },
  {
   "cell_type": "code",
   "execution_count": 99,
   "id": "77868c75",
   "metadata": {},
   "outputs": [
    {
     "data": {
      "text/plain": [
       "array([12, 15, 18])"
      ]
     },
     "execution_count": 99,
     "metadata": {},
     "output_type": "execute_result"
    }
   ],
   "source": [
    "sum1"
   ]
  },
  {
   "cell_type": "code",
   "execution_count": 100,
   "id": "3fd40b57",
   "metadata": {},
   "outputs": [],
   "source": [
    "sum2 = arrey.sum(axis=1)"
   ]
  },
  {
   "cell_type": "code",
   "execution_count": 101,
   "id": "49756b49",
   "metadata": {},
   "outputs": [
    {
     "data": {
      "text/plain": [
       "array([ 6, 15, 24])"
      ]
     },
     "execution_count": 101,
     "metadata": {},
     "output_type": "execute_result"
    }
   ],
   "source": [
    "sum2"
   ]
  },
  {
   "cell_type": "code",
   "execution_count": 102,
   "id": "d44d5ed1",
   "metadata": {},
   "outputs": [
    {
     "data": {
      "text/plain": [
       "array([[1, 4, 7],\n",
       "       [2, 5, 8],\n",
       "       [3, 6, 9]])"
      ]
     },
     "execution_count": 102,
     "metadata": {},
     "output_type": "execute_result"
    }
   ],
   "source": [
    "arrey.T"
   ]
  },
  {
   "cell_type": "code",
   "execution_count": null,
   "id": "01d07d4c",
   "metadata": {},
   "outputs": [],
   "source": []
  }
 ],
 "metadata": {
  "kernelspec": {
   "display_name": "Python 3",
   "language": "python",
   "name": "python3"
  },
  "language_info": {
   "codemirror_mode": {
    "name": "ipython",
    "version": 3
   },
   "file_extension": ".py",
   "mimetype": "text/x-python",
   "name": "python",
   "nbconvert_exporter": "python",
   "pygments_lexer": "ipython3",
   "version": "3.8.8"
  }
 },
 "nbformat": 4,
 "nbformat_minor": 5
}
