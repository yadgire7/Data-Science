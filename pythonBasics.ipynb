{
 "cells": [
  {
   "cell_type": "markdown",
   "id": "8a6c5654",
   "metadata": {},
   "source": [
    "## list"
   ]
  },
  {
   "cell_type": "code",
   "execution_count": 5,
   "id": "7f03753d",
   "metadata": {},
   "outputs": [
    {
     "name": "stdout",
     "output_type": "stream",
     "text": [
      "['saurabh', 'tejas', 'utkarsh', 'anuj', 'sankesh']\n",
      "utkarsh\n",
      "atre\n"
     ]
    }
   ],
   "source": [
    "## square brackets are used\n",
    "lstString = ['saurabh','tejas','utkarsh','anuj','sankesh']\n",
    "print (lstString)\n",
    "print (lstString[2])\n",
    "lstString[2]='atre'\n",
    "print (lstString[2])"
   ]
  },
  {
   "cell_type": "code",
   "execution_count": 6,
   "id": "93d1dcce",
   "metadata": {},
   "outputs": [
    {
     "name": "stdout",
     "output_type": "stream",
     "text": [
      "[1, 2, 3, 4, 5]\n"
     ]
    }
   ],
   "source": [
    "lstNumbers = [1,2,3,4,5]\n",
    "print (lstNumbers)"
   ]
  },
  {
   "cell_type": "code",
   "execution_count": 11,
   "id": "5c6052e1",
   "metadata": {},
   "outputs": [
    {
     "name": "stdout",
     "output_type": "stream",
     "text": [
      "('i', [6, 7, 8, 9, 10])\n",
      "<class 'tuple'>\n",
      "i\n",
      "[6, 7, 8, 9, 10]\n"
     ]
    }
   ],
   "source": [
    "from array import *\n",
    "numArray = ('i',[6,7,8,9,10])\n",
    "print (numArray)\n",
    "print (type(numArray))\n",
    "for num in numArray:\n",
    "    print (num)"
   ]
  },
  {
   "cell_type": "markdown",
   "id": "73cee2c9",
   "metadata": {},
   "source": [
    "# tuples"
   ]
  },
  {
   "cell_type": "code",
   "execution_count": 14,
   "id": "7e2ce5f6",
   "metadata": {},
   "outputs": [
    {
     "name": "stdout",
     "output_type": "stream",
     "text": [
      "('I', 21, 1.89)\n"
     ]
    }
   ],
   "source": [
    "\n",
    "sampleTuple=tuple()                  # declaring using keyword\n",
    "sampleTuple = ('I',21,1.89)          # direct declaration\n",
    "print (sampleTuple)\n"
   ]
  },
  {
   "cell_type": "markdown",
   "id": "28762556",
   "metadata": {},
   "source": [
    "## dictionary"
   ]
  },
  {
   "cell_type": "code",
   "execution_count": 31,
   "id": "659759fc",
   "metadata": {},
   "outputs": [
    {
     "name": "stdout",
     "output_type": "stream",
     "text": [
      "{'first': 1, 'second': 2, 'third': 3, 'fourth': 4}\n"
     ]
    },
    {
     "data": {
      "text/plain": [
       "1"
      ]
     },
     "execution_count": 31,
     "metadata": {},
     "output_type": "execute_result"
    }
   ],
   "source": [
    "#curly brackets are used\n",
    "sampleDict = dict([('first',1),('second',2),('third',3),('fourth',4)]) #declaring using keywod\n",
    "print (sampleDict)\n",
    "sampleDict['first']\n"
   ]
  },
  {
   "cell_type": "code",
   "execution_count": 35,
   "id": "ba61d51a",
   "metadata": {},
   "outputs": [
    {
     "data": {
      "text/plain": [
       "'saurabh'"
      ]
     },
     "execution_count": 35,
     "metadata": {},
     "output_type": "execute_result"
    }
   ],
   "source": [
    "dict2 = {'name':'saurabh','surname':'yadgire','age':21],}          #direct declaration\n",
    "dict2['name']"
   ]
  },
  {
   "cell_type": "markdown",
   "id": "cd104dc6",
   "metadata": {},
   "source": [
    "## set"
   ]
  },
  {
   "cell_type": "code",
   "execution_count": 46,
   "id": "f4918706",
   "metadata": {},
   "outputs": [
    {
     "data": {
      "text/plain": [
       "{'a', 'e', 'l', 'm', 'p', 'x'}"
      ]
     },
     "execution_count": 46,
     "metadata": {},
     "output_type": "execute_result"
    }
   ],
   "source": [
    "#defining using keyword\n",
    "set1 = set('example')\n",
    "set1"
   ]
  },
  {
   "cell_type": "code",
   "execution_count": 41,
   "id": "aa234ad9",
   "metadata": {},
   "outputs": [
    {
     "data": {
      "text/plain": [
       "{0.21, 5, 7.7, 'example'}"
      ]
     },
     "execution_count": 41,
     "metadata": {},
     "output_type": "execute_result"
    }
   ],
   "source": [
    "# defined using curly braces\n",
    "#the order of input is not maintained\n",
    "sampleSet = {'example',5,7.7,0.21}\n",
    "sampleSet"
   ]
  }
 ],
 "metadata": {
  "kernelspec": {
   "display_name": "Python 3",
   "language": "python",
   "name": "python3"
  },
  "language_info": {
   "codemirror_mode": {
    "name": "ipython",
    "version": 3
   },
   "file_extension": ".py",
   "mimetype": "text/x-python",
   "name": "python",
   "nbconvert_exporter": "python",
   "pygments_lexer": "ipython3",
   "version": "3.8.8"
  }
 },
 "nbformat": 4,
 "nbformat_minor": 5
}
