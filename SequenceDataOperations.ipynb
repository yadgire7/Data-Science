{
 "cells": [
  {
   "cell_type": "markdown",
   "id": "f97c9374",
   "metadata": {},
   "source": [
    "## sequence data operations : slicing"
   ]
  },
  {
   "cell_type": "markdown",
   "id": "260bde90",
   "metadata": {},
   "source": [
    "### String"
   ]
  },
  {
   "cell_type": "code",
   "execution_count": 1,
   "id": "698c2d44",
   "metadata": {},
   "outputs": [],
   "source": [
    "sampleString = 'example'"
   ]
  },
  {
   "cell_type": "code",
   "execution_count": 2,
   "id": "774e8846",
   "metadata": {},
   "outputs": [],
   "source": [
    "# slice() function has multiple forms:\n",
    "# a. slice(a,b) -----{a= starting index, b= ending index (exclusive)}"
   ]
  },
  {
   "cell_type": "code",
   "execution_count": 3,
   "id": "15135338",
   "metadata": {},
   "outputs": [
    {
     "data": {
      "text/plain": [
       "'amp'"
      ]
     },
     "execution_count": 3,
     "metadata": {},
     "output_type": "execute_result"
    }
   ],
   "source": [
    "sampleString[slice(2,5)]"
   ]
  },
  {
   "cell_type": "code",
   "execution_count": 4,
   "id": "6a711578",
   "metadata": {},
   "outputs": [],
   "source": [
    "# b. slice(i,j,k) -----{a= staring point, b= ending point, c= step/hop}"
   ]
  },
  {
   "cell_type": "code",
   "execution_count": 5,
   "id": "739f8780",
   "metadata": {},
   "outputs": [
    {
     "data": {
      "text/plain": [
       "'eap'"
      ]
     },
     "execution_count": 5,
     "metadata": {},
     "output_type": "execute_result"
    }
   ],
   "source": [
    "sampleString[slice(0,5,2)] # thsi will return characters in range *[0,5)* with a hop of 2"
   ]
  },
  {
   "cell_type": "code",
   "execution_count": 6,
   "id": "d7b6c900",
   "metadata": {},
   "outputs": [],
   "source": [
    "# c. sringName[:x] -----{slicing starts from begging and ends before index 'x'}"
   ]
  },
  {
   "cell_type": "code",
   "execution_count": 7,
   "id": "5a86919d",
   "metadata": {},
   "outputs": [
    {
     "data": {
      "text/plain": [
       "'examp'"
      ]
     },
     "execution_count": 7,
     "metadata": {},
     "output_type": "execute_result"
    }
   ],
   "source": [
    "sampleString[:5]"
   ]
  },
  {
   "cell_type": "code",
   "execution_count": 8,
   "id": "308eafe4",
   "metadata": {},
   "outputs": [],
   "source": [
    "# d. sringName[x:] -----{starts slicing from index x and ends at last index}"
   ]
  },
  {
   "cell_type": "code",
   "execution_count": 9,
   "id": "a80fc8f8",
   "metadata": {},
   "outputs": [
    {
     "data": {
      "text/plain": [
       "'ample'"
      ]
     },
     "execution_count": 9,
     "metadata": {},
     "output_type": "execute_result"
    }
   ],
   "source": [
    "sampleString[2:]"
   ]
  },
  {
   "cell_type": "markdown",
   "id": "1e9e6c5f",
   "metadata": {},
   "source": [
    "### List"
   ]
  },
  {
   "cell_type": "code",
   "execution_count": 10,
   "id": "4aede211",
   "metadata": {},
   "outputs": [
    {
     "name": "stdout",
     "output_type": "stream",
     "text": [
      "[4, 3.3, 'a', 4, 'seven']\n"
     ]
    }
   ],
   "source": [
    "sampleList = [4,3.3,'a',4,'seven']\n",
    "print (sampleList)"
   ]
  },
  {
   "cell_type": "code",
   "execution_count": 11,
   "id": "93e74813",
   "metadata": {},
   "outputs": [
    {
     "data": {
      "text/plain": [
       "['a', 4]"
      ]
     },
     "execution_count": 11,
     "metadata": {},
     "output_type": "execute_result"
    }
   ],
   "source": [
    "sampleList[2:4]"
   ]
  },
  {
   "cell_type": "code",
   "execution_count": 12,
   "id": "aef571bf",
   "metadata": {},
   "outputs": [
    {
     "data": {
      "text/plain": [
       "[4, 3.3, 'a', 4]"
      ]
     },
     "execution_count": 12,
     "metadata": {},
     "output_type": "execute_result"
    }
   ],
   "source": [
    "sampleList[:4]"
   ]
  },
  {
   "cell_type": "code",
   "execution_count": 13,
   "id": "c823ce87",
   "metadata": {},
   "outputs": [
    {
     "data": {
      "text/plain": [
       "['a', 4, 'seven']"
      ]
     },
     "execution_count": 13,
     "metadata": {},
     "output_type": "execute_result"
    }
   ],
   "source": [
    "sampleList[2:]"
   ]
  },
  {
   "cell_type": "markdown",
   "id": "b4fa284a",
   "metadata": {},
   "source": [
    "### Array"
   ]
  },
  {
   "cell_type": "code",
   "execution_count": 14,
   "id": "720552cc",
   "metadata": {},
   "outputs": [],
   "source": [
    "from array import *\n",
    "sampleArray = array('i',[1,2,3,4,5])"
   ]
  },
  {
   "cell_type": "code",
   "execution_count": 15,
   "id": "0f257c74",
   "metadata": {},
   "outputs": [
    {
     "name": "stdout",
     "output_type": "stream",
     "text": [
      "1\n",
      "2\n",
      "3\n",
      "4\n",
      "5\n"
     ]
    },
    {
     "data": {
      "text/plain": [
       "array('i', [3, 4])"
      ]
     },
     "execution_count": 15,
     "metadata": {},
     "output_type": "execute_result"
    }
   ],
   "source": [
    "for i in sampleArray:\n",
    "    print (i)\n",
    "sampleArray[2:4]"
   ]
  },
  {
   "cell_type": "code",
   "execution_count": 16,
   "id": "6cc94498",
   "metadata": {},
   "outputs": [
    {
     "data": {
      "text/plain": [
       "array('i', [1, 2, 3, 4])"
      ]
     },
     "execution_count": 16,
     "metadata": {},
     "output_type": "execute_result"
    }
   ],
   "source": [
    "sampleArray[:4]"
   ]
  },
  {
   "cell_type": "code",
   "execution_count": 17,
   "id": "2e8901a3",
   "metadata": {},
   "outputs": [
    {
     "data": {
      "text/plain": [
       "array('i', [3, 4, 5])"
      ]
     },
     "execution_count": 17,
     "metadata": {},
     "output_type": "execute_result"
    }
   ],
   "source": [
    "sampleArray[2:]"
   ]
  },
  {
   "cell_type": "markdown",
   "id": "0f18abb6",
   "metadata": {},
   "source": [
    "### Range"
   ]
  },
  {
   "cell_type": "code",
   "execution_count": 18,
   "id": "25cb7e0b",
   "metadata": {},
   "outputs": [
    {
     "name": "stdout",
     "output_type": "stream",
     "text": [
      "1\n",
      "5\n",
      "9\n",
      "13\n",
      "17\n"
     ]
    }
   ],
   "source": [
    "sampleRange = range(1,18,4)\n",
    "for x in sampleRange:\n",
    "    print (x)"
   ]
  },
  {
   "cell_type": "code",
   "execution_count": 19,
   "id": "d2ea1d7d",
   "metadata": {},
   "outputs": [
    {
     "name": "stdout",
     "output_type": "stream",
     "text": [
      "range(1, 13, 4)\n"
     ]
    }
   ],
   "source": [
    "print (sampleRange[:3])"
   ]
  },
  {
   "cell_type": "code",
   "execution_count": 20,
   "id": "5d841fa7",
   "metadata": {},
   "outputs": [
    {
     "name": "stdout",
     "output_type": "stream",
     "text": [
      "range(1, 17, 4)\n"
     ]
    }
   ],
   "source": [
    "print (sampleRange[:-1])"
   ]
  },
  {
   "cell_type": "markdown",
   "id": "e3f7dae4",
   "metadata": {},
   "source": [
    "## sequence data operations : concatenation"
   ]
  },
  {
   "cell_type": "code",
   "execution_count": 21,
   "id": "21e2054f",
   "metadata": {},
   "outputs": [],
   "source": [
    "# syntax: ',' or '+' or '+='"
   ]
  },
  {
   "cell_type": "code",
   "execution_count": 22,
   "id": "f850ba67",
   "metadata": {},
   "outputs": [
    {
     "name": "stdout",
     "output_type": "stream",
     "text": [
      "example of concatenation\n"
     ]
    }
   ],
   "source": [
    "sampleString2 = 'of concatenation'\n",
    "print (sampleString + ' ' + sampleString2)"
   ]
  },
  {
   "cell_type": "code",
   "execution_count": 23,
   "id": "c31e1418",
   "metadata": {},
   "outputs": [
    {
     "name": "stdout",
     "output_type": "stream",
     "text": [
      "example of concatenation\n"
     ]
    }
   ],
   "source": [
    "print (sampleString+'','of concatenation')\n"
   ]
  },
  {
   "cell_type": "code",
   "execution_count": 24,
   "id": "3108bbee",
   "metadata": {},
   "outputs": [
    {
     "name": "stdout",
     "output_type": "stream",
     "text": [
      "example understood!\n"
     ]
    }
   ],
   "source": [
    "sampleString+=' understood!'\n",
    "print (sampleString)"
   ]
  },
  {
   "cell_type": "code",
   "execution_count": 25,
   "id": "50867524",
   "metadata": {},
   "outputs": [
    {
     "data": {
      "text/plain": [
       "[4, 3.3, 'a', 4, 'seven', 'py']"
      ]
     },
     "execution_count": 25,
     "metadata": {},
     "output_type": "execute_result"
    }
   ],
   "source": [
    "sampleList+['py']"
   ]
  },
  {
   "cell_type": "code",
   "execution_count": 26,
   "id": "73e27109",
   "metadata": {},
   "outputs": [],
   "source": [
    "# sampleArray+[10,20]      # sequence data operations : slicing"
   ]
  },
  {
   "cell_type": "code",
   "execution_count": 27,
   "id": "8691c2f7",
   "metadata": {},
   "outputs": [
    {
     "data": {
      "text/plain": [
       "array('i', [1, 2, 3, 4, 5, 10, 20, 30])"
      ]
     },
     "execution_count": 27,
     "metadata": {},
     "output_type": "execute_result"
    }
   ],
   "source": [
    "sampleArray+array('i',[10,20,30])"
   ]
  },
  {
   "cell_type": "code",
   "execution_count": 28,
   "id": "bdd48a7c",
   "metadata": {},
   "outputs": [
    {
     "name": "stdout",
     "output_type": "stream",
     "text": [
      "(1, 213, 'abc')\n"
     ]
    }
   ],
   "source": [
    "sampleTuple = (1,213,'abc')\n",
    "print (sampleTuple)"
   ]
  },
  {
   "cell_type": "code",
   "execution_count": 29,
   "id": "39d797d2",
   "metadata": {},
   "outputs": [
    {
     "data": {
      "text/plain": [
       "(1, 213, 'abc', 'py', 'th', 'on')"
      ]
     },
     "execution_count": 29,
     "metadata": {},
     "output_type": "execute_result"
    }
   ],
   "source": [
    "sampleTuple+('py','th','on')"
   ]
  },
  {
   "cell_type": "markdown",
   "id": "cc268261",
   "metadata": {},
   "source": [
    "## sequence data operations : multiplicaton"
   ]
  },
  {
   "cell_type": "code",
   "execution_count": 30,
   "id": "381256dd",
   "metadata": {},
   "outputs": [
    {
     "name": "stdout",
     "output_type": "stream",
     "text": [
      "example understood!example understood!example understood!\n"
     ]
    }
   ],
   "source": [
    "sampleString*=3\n",
    "print (sampleString)"
   ]
  },
  {
   "cell_type": "code",
   "execution_count": 31,
   "id": "122205a5",
   "metadata": {},
   "outputs": [
    {
     "name": "stdout",
     "output_type": "stream",
     "text": [
      "[4, 3.3, 'a', 4, 'seven']\n"
     ]
    }
   ],
   "source": [
    "print (sampleList)"
   ]
  },
  {
   "cell_type": "code",
   "execution_count": 33,
   "id": "4f48e8d2",
   "metadata": {},
   "outputs": [
    {
     "data": {
      "text/plain": [
       "9.899999999999999"
      ]
     },
     "execution_count": 33,
     "metadata": {},
     "output_type": "execute_result"
    }
   ],
   "source": [
    "sampleList[1]*3"
   ]
  },
  {
   "cell_type": "code",
   "execution_count": 34,
   "id": "6cf87158",
   "metadata": {},
   "outputs": [
    {
     "data": {
      "text/plain": [
       "'aaaa'"
      ]
     },
     "execution_count": 34,
     "metadata": {},
     "output_type": "execute_result"
    }
   ],
   "source": [
    "sampleList[2]*4"
   ]
  },
  {
   "cell_type": "code",
   "execution_count": 37,
   "id": "12f54b0e",
   "metadata": {},
   "outputs": [
    {
     "data": {
      "text/plain": [
       "('abc', 'abc', 'abc')"
      ]
     },
     "execution_count": 37,
     "metadata": {},
     "output_type": "execute_result"
    }
   ],
   "source": [
    "sampleTuple[2:4]*3"
   ]
  }
 ],
 "metadata": {
  "kernelspec": {
   "display_name": "Python 3",
   "language": "python",
   "name": "python3"
  },
  "language_info": {
   "codemirror_mode": {
    "name": "ipython",
    "version": 3
   },
   "file_extension": ".py",
   "mimetype": "text/x-python",
   "name": "python",
   "nbconvert_exporter": "python",
   "pygments_lexer": "ipython3",
   "version": "3.8.8"
  }
 },
 "nbformat": 4,
 "nbformat_minor": 5
}
