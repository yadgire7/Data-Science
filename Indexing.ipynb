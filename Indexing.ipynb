{
 "cells": [
  {
   "cell_type": "markdown",
   "id": "b5f02b54",
   "metadata": {},
   "source": [
    "## String Indexing"
   ]
  },
  {
   "cell_type": "code",
   "execution_count": 3,
   "id": "7b9893a9",
   "metadata": {},
   "outputs": [
    {
     "name": "stdout",
     "output_type": "stream",
     "text": [
      "example\n"
     ]
    }
   ],
   "source": [
    "sampleString = 'example'\n",
    "print (sampleString)"
   ]
  },
  {
   "cell_type": "code",
   "execution_count": 6,
   "id": "a35d1b74",
   "metadata": {},
   "outputs": [
    {
     "data": {
      "text/plain": [
       "2"
      ]
     },
     "execution_count": 6,
     "metadata": {},
     "output_type": "execute_result"
    }
   ],
   "source": [
    "sampleString.index('a')                # returns index of first occurance the mentioned character"
   ]
  },
  {
   "cell_type": "code",
   "execution_count": 9,
   "id": "acdf28b8",
   "metadata": {},
   "outputs": [
    {
     "data": {
      "text/plain": [
       "4"
      ]
     },
     "execution_count": 9,
     "metadata": {},
     "output_type": "execute_result"
    }
   ],
   "source": [
    "sampleString.index('ple')"
   ]
  },
  {
   "cell_type": "code",
   "execution_count": 12,
   "id": "2fd6eac8",
   "metadata": {},
   "outputs": [
    {
     "data": {
      "text/plain": [
       "'m'"
      ]
     },
     "execution_count": 12,
     "metadata": {},
     "output_type": "execute_result"
    }
   ],
   "source": [
    "sampleString[3]                      # returns character at the mentionex from start"
   ]
  },
  {
   "cell_type": "code",
   "execution_count": 14,
   "id": "d945b6bb",
   "metadata": {},
   "outputs": [
    {
     "data": {
      "text/plain": [
       "'e'"
      ]
     },
     "execution_count": 14,
     "metadata": {},
     "output_type": "execute_result"
    }
   ],
   "source": [
    "sampleString[-1]                # returns character at last index"
   ]
  },
  {
   "cell_type": "markdown",
   "id": "92a561fb",
   "metadata": {},
   "source": [
    "## List Indexing"
   ]
  },
  {
   "cell_type": "code",
   "execution_count": 17,
   "id": "97c3a914",
   "metadata": {},
   "outputs": [
    {
     "name": "stdout",
     "output_type": "stream",
     "text": [
      "[4, 77, 3.3, 'sam', 0]\n"
     ]
    }
   ],
   "source": [
    "sampleList = [4,77,3.3,'sam',0]\n",
    "print (sampleList)"
   ]
  },
  {
   "cell_type": "code",
   "execution_count": 19,
   "id": "b08f6cb6",
   "metadata": {},
   "outputs": [
    {
     "data": {
      "text/plain": [
       "2"
      ]
     },
     "execution_count": 19,
     "metadata": {},
     "output_type": "execute_result"
    }
   ],
   "source": [
    "sampleList.index(3.3)          # returns index of the mentioned element"
   ]
  },
  {
   "cell_type": "code",
   "execution_count": 22,
   "id": "640939c1",
   "metadata": {},
   "outputs": [
    {
     "data": {
      "text/plain": [
       "'sam'"
      ]
     },
     "execution_count": 22,
     "metadata": {},
     "output_type": "execute_result"
    }
   ],
   "source": [
    "sampleList[3]                 # returns element at given index"
   ]
  },
  {
   "cell_type": "code",
   "execution_count": 26,
   "id": "f5f77757",
   "metadata": {},
   "outputs": [
    {
     "data": {
      "text/plain": [
       "0"
      ]
     },
     "execution_count": 26,
     "metadata": {},
     "output_type": "execute_result"
    }
   ],
   "source": [
    "sampleList[-1]                # returns element at last index"
   ]
  },
  {
   "cell_type": "markdown",
   "id": "afc656cc",
   "metadata": {},
   "source": [
    "## Array Indexing"
   ]
  },
  {
   "cell_type": "code",
   "execution_count": 28,
   "id": "0d92e290",
   "metadata": {},
   "outputs": [],
   "source": [
    "from array import *          # import statement"
   ]
  },
  {
   "cell_type": "code",
   "execution_count": 35,
   "id": "232b2bc6",
   "metadata": {},
   "outputs": [
    {
     "name": "stdout",
     "output_type": "stream",
     "text": [
      "array('i', [1, 2, 3, 4, 5, 6, 7, 8, 9])\n"
     ]
    }
   ],
   "source": [
    "sampleArray = array('i',[1,2,3,4,5,6,7,8,9])\n",
    "print (sampleArray)"
   ]
  },
  {
   "cell_type": "code",
   "execution_count": 39,
   "id": "b746bf8c",
   "metadata": {},
   "outputs": [
    {
     "data": {
      "text/plain": [
       "4"
      ]
     },
     "execution_count": 39,
     "metadata": {},
     "output_type": "execute_result"
    }
   ],
   "source": [
    "sampleArray[3]"
   ]
  },
  {
   "cell_type": "code",
   "execution_count": 41,
   "id": "54a9c941",
   "metadata": {},
   "outputs": [
    {
     "data": {
      "text/plain": [
       "9"
      ]
     },
     "execution_count": 41,
     "metadata": {},
     "output_type": "execute_result"
    }
   ],
   "source": [
    "sampleArray[-1]"
   ]
  },
  {
   "cell_type": "code",
   "execution_count": 44,
   "id": "84a589eb",
   "metadata": {},
   "outputs": [
    {
     "name": "stdout",
     "output_type": "stream",
     "text": [
      "1\n",
      "2\n",
      "3\n",
      "4\n",
      "5\n",
      "6\n",
      "7\n",
      "8\n",
      "9\n"
     ]
    }
   ],
   "source": [
    "for x in sampleArray:\n",
    "    print (x)"
   ]
  },
  {
   "cell_type": "markdown",
   "id": "957af5b6",
   "metadata": {},
   "source": [
    "## Tuple Indexing"
   ]
  },
  {
   "cell_type": "code",
   "execution_count": 46,
   "id": "9e83ddb8",
   "metadata": {},
   "outputs": [
    {
     "name": "stdout",
     "output_type": "stream",
     "text": [
      "(41278, 'saurabh', 'BE')\n"
     ]
    }
   ],
   "source": [
    "sampleTuple = (41278,'saurabh','BE')\n",
    "print (sampleTuple)"
   ]
  },
  {
   "cell_type": "code",
   "execution_count": 48,
   "id": "0502bc55",
   "metadata": {},
   "outputs": [
    {
     "data": {
      "text/plain": [
       "2"
      ]
     },
     "execution_count": 48,
     "metadata": {},
     "output_type": "execute_result"
    }
   ],
   "source": [
    "sampleTuple.index('BE')"
   ]
  },
  {
   "cell_type": "code",
   "execution_count": 50,
   "id": "06bb4fd0",
   "metadata": {},
   "outputs": [
    {
     "data": {
      "text/plain": [
       "'saurabh'"
      ]
     },
     "execution_count": 50,
     "metadata": {},
     "output_type": "execute_result"
    }
   ],
   "source": [
    "sampleTuple[1]"
   ]
  },
  {
   "cell_type": "markdown",
   "id": "ce9c6bea",
   "metadata": {},
   "source": [
    "## Set Indexing"
   ]
  },
  {
   "cell_type": "code",
   "execution_count": 52,
   "id": "bdb57035",
   "metadata": {},
   "outputs": [
    {
     "name": "stdout",
     "output_type": "stream",
     "text": [
      "{24, 7.7, 7, 'kobe'}\n"
     ]
    }
   ],
   "source": [
    "sampleSet = {24,'kobe',7.7,'kobe',24,7}\n",
    "print (sampleSet)"
   ]
  },
  {
   "cell_type": "code",
   "execution_count": 54,
   "id": "ba1f4038",
   "metadata": {},
   "outputs": [],
   "source": [
    "# sampleSet.index(7)  ----------- 'set' object has no attribute 'index'\n"
   ]
  },
  {
   "cell_type": "markdown",
   "id": "e8d209ba",
   "metadata": {},
   "source": [
    "## Dictionary Indexing"
   ]
  },
  {
   "cell_type": "code",
   "execution_count": 55,
   "id": "e8e9d487",
   "metadata": {},
   "outputs": [],
   "source": [
    "# dictionary object provides a key: value indexing facility\n",
    "# in dictionary the index is the key using which the value can be accessed"
   ]
  },
  {
   "cell_type": "code",
   "execution_count": 57,
   "id": "3503d792",
   "metadata": {},
   "outputs": [
    {
     "name": "stdout",
     "output_type": "stream",
     "text": [
      "{1: 'first', 2: 'second', 3: 'third', 4: 'fourth'}\n"
     ]
    }
   ],
   "source": [
    "sampleDict = {1:'first',2:'second',3:'third',4:'fourth'}\n",
    "print(sampleDict)"
   ]
  },
  {
   "cell_type": "code",
   "execution_count": 60,
   "id": "aa2d7918",
   "metadata": {},
   "outputs": [
    {
     "data": {
      "text/plain": [
       "'second'"
      ]
     },
     "execution_count": 60,
     "metadata": {},
     "output_type": "execute_result"
    }
   ],
   "source": [
    "sampleDict[2]                       # returns value at the mention key"
   ]
  },
  {
   "cell_type": "code",
   "execution_count": 63,
   "id": "47ac4043",
   "metadata": {},
   "outputs": [],
   "source": [
    "# sampleDict['third']      ---------- key caanot be accessed from the value"
   ]
  },
  {
   "cell_type": "markdown",
   "id": "c5674dfd",
   "metadata": {},
   "source": [
    "## Range Indexing"
   ]
  },
  {
   "cell_type": "code",
   "execution_count": 69,
   "id": "9abd1ee4",
   "metadata": {},
   "outputs": [
    {
     "name": "stdout",
     "output_type": "stream",
     "text": [
      "range(1, 12, 4)\n"
     ]
    }
   ],
   "source": [
    "sampleRange = range(1,12,4)        # built in type for looping\n",
    "print (sampleRange)                # first parameter in range() is starting point, second parameter is endpoint and third parmeter is incremental value"
   ]
  },
  {
   "cell_type": "code",
   "execution_count": 70,
   "id": "7d4f74fa",
   "metadata": {},
   "outputs": [
    {
     "name": "stdout",
     "output_type": "stream",
     "text": [
      "1\n",
      "5\n",
      "9\n"
     ]
    }
   ],
   "source": [
    "for i in sampleRange:\n",
    "    print (i)"
   ]
  },
  {
   "cell_type": "code",
   "execution_count": 73,
   "id": "9a631444",
   "metadata": {},
   "outputs": [
    {
     "ename": "ValueError",
     "evalue": "7 is not in range",
     "output_type": "error",
     "traceback": [
      "\u001b[1;31m---------------------------------------------------------------------------\u001b[0m",
      "\u001b[1;31mValueError\u001b[0m                                Traceback (most recent call last)",
      "\u001b[1;32m<ipython-input-73-9cbc658a9c66>\u001b[0m in \u001b[0;36m<module>\u001b[1;34m\u001b[0m\n\u001b[1;32m----> 1\u001b[1;33m \u001b[0msampleRange\u001b[0m\u001b[1;33m.\u001b[0m\u001b[0mindex\u001b[0m\u001b[1;33m(\u001b[0m\u001b[1;36m7\u001b[0m\u001b[1;33m)\u001b[0m                   \u001b[1;31m# returns index of mentioned value if present in the range\u001b[0m\u001b[1;33m\u001b[0m\u001b[1;33m\u001b[0m\u001b[0m\n\u001b[0m",
      "\u001b[1;31mValueError\u001b[0m: 7 is not in range"
     ]
    }
   ],
   "source": [
    "sampleRange.index(7)                   # returns index of mentioned value if present in the range"
   ]
  },
  {
   "cell_type": "code",
   "execution_count": 74,
   "id": "a02df3bf",
   "metadata": {},
   "outputs": [
    {
     "data": {
      "text/plain": [
       "2"
      ]
     },
     "execution_count": 74,
     "metadata": {},
     "output_type": "execute_result"
    }
   ],
   "source": [
    "sampleRange.index(9)"
   ]
  },
  {
   "cell_type": "code",
   "execution_count": 77,
   "id": "e7807acc",
   "metadata": {},
   "outputs": [
    {
     "data": {
      "text/plain": [
       "5"
      ]
     },
     "execution_count": 77,
     "metadata": {},
     "output_type": "execute_result"
    }
   ],
   "source": [
    "sampleRange[1]              # returns the value at given index in the range"
   ]
  },
  {
   "cell_type": "code",
   "execution_count": null,
   "id": "e16060b0",
   "metadata": {},
   "outputs": [],
   "source": []
  }
 ],
 "metadata": {
  "kernelspec": {
   "display_name": "Python 3",
   "language": "python",
   "name": "python3"
  },
  "language_info": {
   "codemirror_mode": {
    "name": "ipython",
    "version": 3
   },
   "file_extension": ".py",
   "mimetype": "text/x-python",
   "name": "python",
   "nbconvert_exporter": "python",
   "pygments_lexer": "ipython3",
   "version": "3.8.8"
  }
 },
 "nbformat": 4,
 "nbformat_minor": 5
}
